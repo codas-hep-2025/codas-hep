{
 "cells": [
  {
   "cell_type": "markdown",
   "metadata": {},
   "source": [
    "# Pandas: DataFrames for Python\n",
    "\n",
    "Python is a general purpose language. It doesn't have to be better than a specialized language, it just has to have a good enough library - it is better at all the other parts, like dealing with files, CLI/GUI, etc.\n"
   ]
  },
  {
   "cell_type": "markdown",
   "metadata": {},
   "source": [
    "DataFrames (well known from R) are like Excel spreadsheets in Python. (In fact, it can open Excel files). They are for _structured data_. If a NumPy axis has a meaning you want to assign a name to, it's probably structured."
   ]
  },
  {
   "cell_type": "code",
   "execution_count": 1,
   "metadata": {},
   "outputs": [],
   "source": [
    "import numpy as np\n",
    "import pandas as pd"
   ]
  },
  {
   "cell_type": "markdown",
   "metadata": {},
   "source": [
    "We could make a DataFrame by hand, most most of the time you'll load them from various data sources. So let's make a CSV:"
   ]
  },
  {
   "cell_type": "code",
   "execution_count": 2,
   "metadata": {},
   "outputs": [
    {
     "name": "stdout",
     "output_type": "stream",
     "text": [
      "Writing tmp.csv\n"
     ]
    }
   ],
   "source": [
    "%%writefile tmp.csv\n",
    "id,                version, os,    arch\n",
    "cp37-macos_arm64,  3.7,     macos, arm64\n",
    "cp38-macos_arm64,  3.8,     macos, arm64\n",
    "cp39-macos_arm64,  3.9,     macos, arm64\n",
    "cp37-macos_x86_64, 3.7,     macos, x86_64\n",
    "cp38-macos_x86_64, 3.8,     macos, x86_64\n",
    "cp39-macos_x86_64, 3.9,     macos, x86_64"
   ]
  },
  {
   "cell_type": "markdown",
   "metadata": {},
   "source": [
    "By default, pandas can read it, and even nicely format something for your screen:"
   ]
  },
  {
   "cell_type": "code",
   "execution_count": 3,
   "metadata": {},
   "outputs": [
    {
     "data": {
      "text/html": [
       "<div>\n",
       "<style scoped>\n",
       "    .dataframe tbody tr th:only-of-type {\n",
       "        vertical-align: middle;\n",
       "    }\n",
       "\n",
       "    .dataframe tbody tr th {\n",
       "        vertical-align: top;\n",
       "    }\n",
       "\n",
       "    .dataframe thead th {\n",
       "        text-align: right;\n",
       "    }\n",
       "</style>\n",
       "<table border=\"1\" class=\"dataframe\">\n",
       "  <thead>\n",
       "    <tr style=\"text-align: right;\">\n",
       "      <th></th>\n",
       "      <th>id</th>\n",
       "      <th>version</th>\n",
       "      <th>os</th>\n",
       "      <th>arch</th>\n",
       "    </tr>\n",
       "  </thead>\n",
       "  <tbody>\n",
       "    <tr>\n",
       "      <th>0</th>\n",
       "      <td>cp37-macos_arm64</td>\n",
       "      <td>3.7</td>\n",
       "      <td>macos</td>\n",
       "      <td>arm64</td>\n",
       "    </tr>\n",
       "    <tr>\n",
       "      <th>1</th>\n",
       "      <td>cp38-macos_arm64</td>\n",
       "      <td>3.8</td>\n",
       "      <td>macos</td>\n",
       "      <td>arm64</td>\n",
       "    </tr>\n",
       "    <tr>\n",
       "      <th>2</th>\n",
       "      <td>cp39-macos_arm64</td>\n",
       "      <td>3.9</td>\n",
       "      <td>macos</td>\n",
       "      <td>arm64</td>\n",
       "    </tr>\n",
       "    <tr>\n",
       "      <th>3</th>\n",
       "      <td>cp37-macos_x86_64</td>\n",
       "      <td>3.7</td>\n",
       "      <td>macos</td>\n",
       "      <td>x86_64</td>\n",
       "    </tr>\n",
       "    <tr>\n",
       "      <th>4</th>\n",
       "      <td>cp38-macos_x86_64</td>\n",
       "      <td>3.8</td>\n",
       "      <td>macos</td>\n",
       "      <td>x86_64</td>\n",
       "    </tr>\n",
       "    <tr>\n",
       "      <th>5</th>\n",
       "      <td>cp39-macos_x86_64</td>\n",
       "      <td>3.9</td>\n",
       "      <td>macos</td>\n",
       "      <td>x86_64</td>\n",
       "    </tr>\n",
       "  </tbody>\n",
       "</table>\n",
       "</div>"
      ],
      "text/plain": [
       "                  id                  version          os     arch\n",
       "0   cp37-macos_arm64                      3.7       macos    arm64\n",
       "1   cp38-macos_arm64                      3.8       macos    arm64\n",
       "2   cp39-macos_arm64                      3.9       macos    arm64\n",
       "3  cp37-macos_x86_64                      3.7       macos   x86_64\n",
       "4  cp38-macos_x86_64                      3.8       macos   x86_64\n",
       "5  cp39-macos_x86_64                      3.9       macos   x86_64"
      ]
     },
     "execution_count": 3,
     "metadata": {},
     "output_type": "execute_result"
    }
   ],
   "source": [
    "df = pd.read_csv(\"tmp.csv\")\n",
    "df"
   ]
  },
  {
   "cell_type": "code",
   "execution_count": 4,
   "metadata": {},
   "outputs": [
    {
     "name": "stdout",
     "output_type": "stream",
     "text": [
      "<class 'pandas.core.frame.DataFrame'>\n",
      "RangeIndex: 6 entries, 0 to 5\n",
      "Data columns (total 4 columns):\n",
      " #   Column                   Non-Null Count  Dtype  \n",
      "---  ------                   --------------  -----  \n",
      " 0   id                       6 non-null      object \n",
      " 1                   version  6 non-null      float64\n",
      " 2    os                      6 non-null      object \n",
      " 3       arch                 6 non-null      object \n",
      "dtypes: float64(1), object(3)\n",
      "memory usage: 320.0+ bytes\n"
     ]
    }
   ],
   "source": [
    "df.info()"
   ]
  },
  {
   "cell_type": "markdown",
   "metadata": {},
   "source": [
    "There are lots of powerful tools when reading and for later cleanup; let's do a better job of importing."
   ]
  },
  {
   "cell_type": "code",
   "execution_count": 5,
   "metadata": {},
   "outputs": [
    {
     "data": {
      "text/html": [
       "<div>\n",
       "<style scoped>\n",
       "    .dataframe tbody tr th:only-of-type {\n",
       "        vertical-align: middle;\n",
       "    }\n",
       "\n",
       "    .dataframe tbody tr th {\n",
       "        vertical-align: top;\n",
       "    }\n",
       "\n",
       "    .dataframe thead th {\n",
       "        text-align: right;\n",
       "    }\n",
       "</style>\n",
       "<table border=\"1\" class=\"dataframe\">\n",
       "  <thead>\n",
       "    <tr style=\"text-align: right;\">\n",
       "      <th></th>\n",
       "      <th>version</th>\n",
       "      <th>os</th>\n",
       "      <th>arch</th>\n",
       "    </tr>\n",
       "    <tr>\n",
       "      <th>id</th>\n",
       "      <th></th>\n",
       "      <th></th>\n",
       "      <th></th>\n",
       "    </tr>\n",
       "  </thead>\n",
       "  <tbody>\n",
       "    <tr>\n",
       "      <th>cp37-macos_arm64</th>\n",
       "      <td>3.7</td>\n",
       "      <td>macos</td>\n",
       "      <td>arm64</td>\n",
       "    </tr>\n",
       "    <tr>\n",
       "      <th>cp38-macos_arm64</th>\n",
       "      <td>3.8</td>\n",
       "      <td>macos</td>\n",
       "      <td>arm64</td>\n",
       "    </tr>\n",
       "    <tr>\n",
       "      <th>cp39-macos_arm64</th>\n",
       "      <td>3.9</td>\n",
       "      <td>macos</td>\n",
       "      <td>arm64</td>\n",
       "    </tr>\n",
       "    <tr>\n",
       "      <th>cp37-macos_x86_64</th>\n",
       "      <td>3.7</td>\n",
       "      <td>macos</td>\n",
       "      <td>x86_64</td>\n",
       "    </tr>\n",
       "    <tr>\n",
       "      <th>cp38-macos_x86_64</th>\n",
       "      <td>3.8</td>\n",
       "      <td>macos</td>\n",
       "      <td>x86_64</td>\n",
       "    </tr>\n",
       "    <tr>\n",
       "      <th>cp39-macos_x86_64</th>\n",
       "      <td>3.9</td>\n",
       "      <td>macos</td>\n",
       "      <td>x86_64</td>\n",
       "    </tr>\n",
       "  </tbody>\n",
       "</table>\n",
       "</div>"
      ],
      "text/plain": [
       "                   version     os    arch\n",
       "id                                       \n",
       "cp37-macos_arm64       3.7  macos   arm64\n",
       "cp38-macos_arm64       3.8  macos   arm64\n",
       "cp39-macos_arm64       3.9  macos   arm64\n",
       "cp37-macos_x86_64      3.7  macos  x86_64\n",
       "cp38-macos_x86_64      3.8  macos  x86_64\n",
       "cp39-macos_x86_64      3.9  macos  x86_64"
      ]
     },
     "execution_count": 5,
     "metadata": {},
     "output_type": "execute_result"
    }
   ],
   "source": [
    "df = pd.read_csv(\n",
    "    \"tmp.csv\",\n",
    "    index_col=0,\n",
    "    skipinitialspace=True,\n",
    "    dtype={\"os\": \"category\", \"arch\": \"category\"},\n",
    ")\n",
    "df"
   ]
  },
  {
   "cell_type": "code",
   "execution_count": 6,
   "metadata": {},
   "outputs": [
    {
     "name": "stdout",
     "output_type": "stream",
     "text": [
      "<class 'pandas.core.frame.DataFrame'>\n",
      "Index: 6 entries, cp37-macos_arm64 to cp39-macos_x86_64\n",
      "Data columns (total 3 columns):\n",
      " #   Column   Non-Null Count  Dtype   \n",
      "---  ------   --------------  -----   \n",
      " 0   version  6 non-null      float64 \n",
      " 1   os       6 non-null      category\n",
      " 2   arch     6 non-null      category\n",
      "dtypes: category(2), float64(1)\n",
      "memory usage: 132.0+ bytes\n"
     ]
    }
   ],
   "source": [
    "df.info()"
   ]
  },
  {
   "cell_type": "markdown",
   "metadata": {},
   "source": [
    "We can quickly see some stats for numerical data:"
   ]
  },
  {
   "cell_type": "code",
   "execution_count": 7,
   "metadata": {},
   "outputs": [
    {
     "data": {
      "text/html": [
       "<div>\n",
       "<style scoped>\n",
       "    .dataframe tbody tr th:only-of-type {\n",
       "        vertical-align: middle;\n",
       "    }\n",
       "\n",
       "    .dataframe tbody tr th {\n",
       "        vertical-align: top;\n",
       "    }\n",
       "\n",
       "    .dataframe thead th {\n",
       "        text-align: right;\n",
       "    }\n",
       "</style>\n",
       "<table border=\"1\" class=\"dataframe\">\n",
       "  <thead>\n",
       "    <tr style=\"text-align: right;\">\n",
       "      <th></th>\n",
       "      <th>version</th>\n",
       "    </tr>\n",
       "  </thead>\n",
       "  <tbody>\n",
       "    <tr>\n",
       "      <th>count</th>\n",
       "      <td>6.000000</td>\n",
       "    </tr>\n",
       "    <tr>\n",
       "      <th>mean</th>\n",
       "      <td>3.800000</td>\n",
       "    </tr>\n",
       "    <tr>\n",
       "      <th>std</th>\n",
       "      <td>0.089443</td>\n",
       "    </tr>\n",
       "    <tr>\n",
       "      <th>min</th>\n",
       "      <td>3.700000</td>\n",
       "    </tr>\n",
       "    <tr>\n",
       "      <th>25%</th>\n",
       "      <td>3.725000</td>\n",
       "    </tr>\n",
       "    <tr>\n",
       "      <th>50%</th>\n",
       "      <td>3.800000</td>\n",
       "    </tr>\n",
       "    <tr>\n",
       "      <th>75%</th>\n",
       "      <td>3.875000</td>\n",
       "    </tr>\n",
       "    <tr>\n",
       "      <th>max</th>\n",
       "      <td>3.900000</td>\n",
       "    </tr>\n",
       "  </tbody>\n",
       "</table>\n",
       "</div>"
      ],
      "text/plain": [
       "        version\n",
       "count  6.000000\n",
       "mean   3.800000\n",
       "std    0.089443\n",
       "min    3.700000\n",
       "25%    3.725000\n",
       "50%    3.800000\n",
       "75%    3.875000\n",
       "max    3.900000"
      ]
     },
     "execution_count": 7,
     "metadata": {},
     "output_type": "execute_result"
    }
   ],
   "source": [
    "df.describe()"
   ]
  },
  {
   "cell_type": "markdown",
   "metadata": {},
   "source": [
    "We can query columns (or anything else):"
   ]
  },
  {
   "cell_type": "code",
   "execution_count": 8,
   "metadata": {},
   "outputs": [
    {
     "data": {
      "text/plain": [
       "id\n",
       "cp37-macos_arm64     macos\n",
       "cp38-macos_arm64     macos\n",
       "cp39-macos_arm64     macos\n",
       "cp37-macos_x86_64    macos\n",
       "cp38-macos_x86_64    macos\n",
       "cp39-macos_x86_64    macos\n",
       "Name: os, dtype: category\n",
       "Categories (1, object): ['macos']"
      ]
     },
     "execution_count": 8,
     "metadata": {},
     "output_type": "execute_result"
    }
   ],
   "source": [
    "df[\"os\"]"
   ]
  },
  {
   "cell_type": "markdown",
   "metadata": {},
   "source": [
    "For simple names, columns can be even easier to access:"
   ]
  },
  {
   "cell_type": "code",
   "execution_count": 9,
   "metadata": {},
   "outputs": [
    {
     "data": {
      "text/plain": [
       "id\n",
       "cp37-macos_arm64      arm64\n",
       "cp38-macos_arm64      arm64\n",
       "cp39-macos_arm64      arm64\n",
       "cp37-macos_x86_64    x86_64\n",
       "cp38-macos_x86_64    x86_64\n",
       "cp39-macos_x86_64    x86_64\n",
       "Name: arch, dtype: category\n",
       "Categories (2, object): ['arm64', 'x86_64']"
      ]
     },
     "execution_count": 9,
     "metadata": {},
     "output_type": "execute_result"
    }
   ],
   "source": [
    "df.arch"
   ]
  },
  {
   "cell_type": "markdown",
   "metadata": {},
   "source": [
    "You have quick, easy access to lots of analysis tools:"
   ]
  },
  {
   "cell_type": "code",
   "execution_count": 10,
   "metadata": {},
   "outputs": [
    {
     "data": {
      "image/png": "[encoded data removed]",
      "text/plain": [
       "<Figure size 640x480 with 1 Axes>"
      ]
     },
     "metadata": {},
     "output_type": "display_data"
    }
   ],
   "source": [
    "df.version.plot.bar();"
   ]
  },
  {
   "cell_type": "markdown",
   "metadata": {},
   "source": [
    "You can select using a variety of methods, including NumPy style boolean arrays:"
   ]
  },
  {
   "cell_type": "code",
   "execution_count": 11,
   "metadata": {},
   "outputs": [
    {
     "data": {
      "text/html": [
       "<div>\n",
       "<style scoped>\n",
       "    .dataframe tbody tr th:only-of-type {\n",
       "        vertical-align: middle;\n",
       "    }\n",
       "\n",
       "    .dataframe tbody tr th {\n",
       "        vertical-align: top;\n",
       "    }\n",
       "\n",
       "    .dataframe thead th {\n",
       "        text-align: right;\n",
       "    }\n",
       "</style>\n",
       "<table border=\"1\" class=\"dataframe\">\n",
       "  <thead>\n",
       "    <tr style=\"text-align: right;\">\n",
       "      <th></th>\n",
       "      <th>version</th>\n",
       "      <th>os</th>\n",
       "      <th>arch</th>\n",
       "    </tr>\n",
       "    <tr>\n",
       "      <th>id</th>\n",
       "      <th></th>\n",
       "      <th></th>\n",
       "      <th></th>\n",
       "    </tr>\n",
       "  </thead>\n",
       "  <tbody>\n",
       "    <tr>\n",
       "      <th>cp37-macos_arm64</th>\n",
       "      <td>3.7</td>\n",
       "      <td>macos</td>\n",
       "      <td>arm64</td>\n",
       "    </tr>\n",
       "    <tr>\n",
       "      <th>cp38-macos_arm64</th>\n",
       "      <td>3.8</td>\n",
       "      <td>macos</td>\n",
       "      <td>arm64</td>\n",
       "    </tr>\n",
       "    <tr>\n",
       "      <th>cp39-macos_arm64</th>\n",
       "      <td>3.9</td>\n",
       "      <td>macos</td>\n",
       "      <td>arm64</td>\n",
       "    </tr>\n",
       "  </tbody>\n",
       "</table>\n",
       "</div>"
      ],
      "text/plain": [
       "                  version     os   arch\n",
       "id                                     \n",
       "cp37-macos_arm64      3.7  macos  arm64\n",
       "cp38-macos_arm64      3.8  macos  arm64\n",
       "cp39-macos_arm64      3.9  macos  arm64"
      ]
     },
     "execution_count": 11,
     "metadata": {},
     "output_type": "execute_result"
    }
   ],
   "source": [
    "df[df.arch == \"arm64\"]"
   ]
  },
  {
   "cell_type": "markdown",
   "metadata": {},
   "source": [
    "As a reminder, multiple conditions combine like NumPy, with the bitwise operators (Python limitation, and requires extra parenthesis):"
   ]
  },
  {
   "cell_type": "code",
   "execution_count": 12,
   "metadata": {},
   "outputs": [
    {
     "data": {
      "text/html": [
       "<div>\n",
       "<style scoped>\n",
       "    .dataframe tbody tr th:only-of-type {\n",
       "        vertical-align: middle;\n",
       "    }\n",
       "\n",
       "    .dataframe tbody tr th {\n",
       "        vertical-align: top;\n",
       "    }\n",
       "\n",
       "    .dataframe thead th {\n",
       "        text-align: right;\n",
       "    }\n",
       "</style>\n",
       "<table border=\"1\" class=\"dataframe\">\n",
       "  <thead>\n",
       "    <tr style=\"text-align: right;\">\n",
       "      <th></th>\n",
       "      <th>version</th>\n",
       "      <th>os</th>\n",
       "      <th>arch</th>\n",
       "    </tr>\n",
       "    <tr>\n",
       "      <th>id</th>\n",
       "      <th></th>\n",
       "      <th></th>\n",
       "      <th></th>\n",
       "    </tr>\n",
       "  </thead>\n",
       "  <tbody>\n",
       "    <tr>\n",
       "      <th>cp38-macos_arm64</th>\n",
       "      <td>3.8</td>\n",
       "      <td>macos</td>\n",
       "      <td>arm64</td>\n",
       "    </tr>\n",
       "    <tr>\n",
       "      <th>cp39-macos_arm64</th>\n",
       "      <td>3.9</td>\n",
       "      <td>macos</td>\n",
       "      <td>arm64</td>\n",
       "    </tr>\n",
       "  </tbody>\n",
       "</table>\n",
       "</div>"
      ],
      "text/plain": [
       "                  version     os   arch\n",
       "id                                     \n",
       "cp38-macos_arm64      3.8  macos  arm64\n",
       "cp39-macos_arm64      3.9  macos  arm64"
      ]
     },
     "execution_count": 12,
     "metadata": {},
     "output_type": "execute_result"
    }
   ],
   "source": [
    "df[(df.arch == \"arm64\") & (df.version >= 3.8)]"
   ]
  },
  {
   "cell_type": "markdown",
   "metadata": {},
   "source": [
    "The powerful groupby lets you collect and analyze with ease. For example, to compute the mean for each possible arch:"
   ]
  },
  {
   "cell_type": "code",
   "execution_count": 13,
   "metadata": {},
   "outputs": [
    {
     "data": {
      "text/plain": [
       "arch\n",
       "arm64     3.8\n",
       "x86_64    3.8\n",
       "Name: version, dtype: float64"
      ]
     },
     "execution_count": 13,
     "metadata": {},
     "output_type": "execute_result"
    }
   ],
   "source": [
    "df.groupby(\"arch\", observed=True).version.mean()"
   ]
  },
  {
   "cell_type": "markdown",
   "metadata": {},
   "source": [
    "Or how many of each:"
   ]
  },
  {
   "cell_type": "code",
   "execution_count": 14,
   "metadata": {},
   "outputs": [
    {
     "data": {
      "image/png": "[encoded data removed]",
      "text/plain": [
       "<Figure size 640x480 with 1 Axes>"
      ]
     },
     "metadata": {},
     "output_type": "display_data"
    }
   ],
   "source": [
    "df.groupby(\"arch\", observed=True).version.count().plot.bar();"
   ]
  },
  {
   "cell_type": "markdown",
   "metadata": {},
   "source": [
    "Pandas pioneered a lot of DSL (Domain Specific Language) for Python, taking over the Python language to keep things simple and consistent within DataFrames. For example, it provides accessors, like the `.str` accessor, that apply normal methods to a series instead:"
   ]
  },
  {
   "cell_type": "code",
   "execution_count": 15,
   "metadata": {},
   "outputs": [
    {
     "data": {
      "text/plain": [
       "id\n",
       "cp37-macos_arm64      ARM64\n",
       "cp38-macos_arm64      ARM64\n",
       "cp39-macos_arm64      ARM64\n",
       "cp37-macos_x86_64    X86_64\n",
       "cp38-macos_x86_64    X86_64\n",
       "cp39-macos_x86_64    X86_64\n",
       "Name: arch, dtype: object"
      ]
     },
     "execution_count": 15,
     "metadata": {},
     "output_type": "execute_result"
    }
   ],
   "source": [
    "df.arch.str.upper()"
   ]
  },
  {
   "cell_type": "markdown",
   "metadata": {},
   "source": [
    "Here's another little example of some of the above concepts:"
   ]
  },
  {
   "cell_type": "code",
   "execution_count": 16,
   "metadata": {
    "scrolled": true
   },
   "outputs": [
    {
     "data": {
      "text/plain": [
       "is_signal\n",
       "False    91.610143\n",
       "True     90.993974\n",
       "Name: energy, dtype: float64"
      ]
     },
     "execution_count": 16,
     "metadata": {},
     "output_type": "execute_result"
    }
   ],
   "source": [
    "evts = pd.DataFrame({\"energy\":  np.random.normal(91.2, 2.5, 50)})\n",
    "evts[\"is_signal\"] = evts.energy.between(89, 93)\n",
    "evts.groupby(\"is_signal\").energy.mean()"
   ]
  },
  {
   "cell_type": "markdown",
   "metadata": {},
   "source": [
    "This is just scratching the surface. Besides manipulating these dataframes and series, Pandas also offers:\n",
    "\n",
    "* Fantastic date manipulation, including holidays, work weeks, and more\n",
    "* Great periodic tools, rolling calculations, and more\n",
    "\n",
    "Great Pandas, like vectorized NumPy, can be a little hard to write, taking a few iterations, but once you have it written, it is easy to read and very expressive."
   ]
  },
  {
   "cell_type": "markdown",
   "metadata": {},
   "source": [
    "## More reading"
   ]
  },
  {
   "cell_type": "markdown",
   "metadata": {},
   "source": [
    "See this notebook than analyze COVID data that used to run daily on my website: <https://iscinumpy.gitlab.io/post/johns-hopkins-covid/>"
   ]
  }
 ],
 "metadata": {
  "kernelspec": {
   "display_name": "Python 3 (ipykernel)",
   "language": "python",
   "name": "python3"
  },
  "language_info": {
   "codemirror_mode": {
    "name": "ipython",
    "version": 3
   },
   "file_extension": ".py",
   "mimetype": "text/x-python",
   "name": "python",
   "nbconvert_exporter": "python",
   "pygments_lexer": "ipython3",
   "version": "3.10.18"
  }
 },
 "nbformat": 4,
 "nbformat_minor": 4
}
