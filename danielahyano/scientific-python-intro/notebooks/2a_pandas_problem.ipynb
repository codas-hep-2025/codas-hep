{
 "cells": [
  {
   "cell_type": "markdown",
   "id": "2baec55c-b69e-40e6-b0d7-6a18d7b58a3a",
   "metadata": {},
   "source": [
    "## Exercise: Signal Selection and Invariant Mass\n",
    "\n",
    "This example starts with a very simple toy model and uses pandas. Here's the toy:"
   ]
  },
  {
   "cell_type": "code",
   "execution_count": 16,
   "id": "c73e76fb-202b-4df3-bc99-0e9997363bcf",
   "metadata": {},
   "outputs": [],
   "source": [
    "import pandas as pd\n",
    "import numpy as np\n",
    "import matplotlib.pyplot as plt\n",
    "\n",
    "rng = np.random.default_rng()\n",
    "\n",
    "N = 10_000\n",
    "\n",
    "df = pd.DataFrame({\n",
    "    \"event_id\": np.arange(N),\n",
    "    \"px\": rng.normal(0, 20, size=N),\n",
    "    \"py\": rng.normal(0, 20, size=N),\n",
    "    \"pz\": rng.normal(0, 50, size=N),\n",
    "    \"E\": rng.normal(100, 10, size=N),\n",
    "    \"label\": rng.choice([\"signal\", \"background\"], size=N, p=[0.1, 0.9]),\n",
    "})"
   ]
  },
  {
   "cell_type": "markdown",
   "id": "961e4645-19f8-4fd5-9269-a7182b01c04a",
   "metadata": {},
   "source": [
    "We are generating some unphysical events, but that's fine for now, we will filter them later."
   ]
  },
  {
   "cell_type": "code",
   "execution_count": 2,
   "id": "09b43cec-7662-44a8-92e9-af7ce3294d78",
   "metadata": {},
   "outputs": [
    {
     "data": {
      "text/html": [
       "<div>\n",
       "<style scoped>\n",
       "    .dataframe tbody tr th:only-of-type {\n",
       "        vertical-align: middle;\n",
       "    }\n",
       "\n",
       "    .dataframe tbody tr th {\n",
       "        vertical-align: top;\n",
       "    }\n",
       "\n",
       "    .dataframe thead th {\n",
       "        text-align: right;\n",
       "    }\n",
       "</style>\n",
       "<table border=\"1\" class=\"dataframe\">\n",
       "  <thead>\n",
       "    <tr style=\"text-align: right;\">\n",
       "      <th></th>\n",
       "      <th>event_id</th>\n",
       "      <th>px</th>\n",
       "      <th>py</th>\n",
       "      <th>pz</th>\n",
       "      <th>E</th>\n",
       "      <th>label</th>\n",
       "    </tr>\n",
       "  </thead>\n",
       "  <tbody>\n",
       "    <tr>\n",
       "      <th>0</th>\n",
       "      <td>0</td>\n",
       "      <td>39.842189</td>\n",
       "      <td>-12.187373</td>\n",
       "      <td>48.251533</td>\n",
       "      <td>99.673517</td>\n",
       "      <td>background</td>\n",
       "    </tr>\n",
       "    <tr>\n",
       "      <th>1</th>\n",
       "      <td>1</td>\n",
       "      <td>1.251862</td>\n",
       "      <td>-1.932801</td>\n",
       "      <td>19.211143</td>\n",
       "      <td>96.477413</td>\n",
       "      <td>background</td>\n",
       "    </tr>\n",
       "    <tr>\n",
       "      <th>2</th>\n",
       "      <td>2</td>\n",
       "      <td>24.867766</td>\n",
       "      <td>-10.772423</td>\n",
       "      <td>-72.007379</td>\n",
       "      <td>96.682095</td>\n",
       "      <td>signal</td>\n",
       "    </tr>\n",
       "    <tr>\n",
       "      <th>3</th>\n",
       "      <td>3</td>\n",
       "      <td>29.999622</td>\n",
       "      <td>-20.168628</td>\n",
       "      <td>-80.223972</td>\n",
       "      <td>102.188140</td>\n",
       "      <td>background</td>\n",
       "    </tr>\n",
       "    <tr>\n",
       "      <th>4</th>\n",
       "      <td>4</td>\n",
       "      <td>-29.887234</td>\n",
       "      <td>13.302332</td>\n",
       "      <td>1.014010</td>\n",
       "      <td>87.621084</td>\n",
       "      <td>background</td>\n",
       "    </tr>\n",
       "    <tr>\n",
       "      <th>...</th>\n",
       "      <td>...</td>\n",
       "      <td>...</td>\n",
       "      <td>...</td>\n",
       "      <td>...</td>\n",
       "      <td>...</td>\n",
       "      <td>...</td>\n",
       "    </tr>\n",
       "    <tr>\n",
       "      <th>9995</th>\n",
       "      <td>9995</td>\n",
       "      <td>5.808365</td>\n",
       "      <td>-13.844433</td>\n",
       "      <td>11.886233</td>\n",
       "      <td>95.065217</td>\n",
       "      <td>background</td>\n",
       "    </tr>\n",
       "    <tr>\n",
       "      <th>9996</th>\n",
       "      <td>9996</td>\n",
       "      <td>47.794724</td>\n",
       "      <td>16.443474</td>\n",
       "      <td>-36.860464</td>\n",
       "      <td>107.828968</td>\n",
       "      <td>background</td>\n",
       "    </tr>\n",
       "    <tr>\n",
       "      <th>9997</th>\n",
       "      <td>9997</td>\n",
       "      <td>26.211772</td>\n",
       "      <td>-23.798504</td>\n",
       "      <td>21.352053</td>\n",
       "      <td>103.279465</td>\n",
       "      <td>background</td>\n",
       "    </tr>\n",
       "    <tr>\n",
       "      <th>9998</th>\n",
       "      <td>9998</td>\n",
       "      <td>5.470663</td>\n",
       "      <td>6.297953</td>\n",
       "      <td>-18.573226</td>\n",
       "      <td>94.750028</td>\n",
       "      <td>background</td>\n",
       "    </tr>\n",
       "    <tr>\n",
       "      <th>9999</th>\n",
       "      <td>9999</td>\n",
       "      <td>10.756787</td>\n",
       "      <td>23.514419</td>\n",
       "      <td>-41.951395</td>\n",
       "      <td>95.440413</td>\n",
       "      <td>background</td>\n",
       "    </tr>\n",
       "  </tbody>\n",
       "</table>\n",
       "<p>10000 rows × 6 columns</p>\n",
       "</div>"
      ],
      "text/plain": [
       "      event_id         px         py         pz           E       label\n",
       "0            0  39.842189 -12.187373  48.251533   99.673517  background\n",
       "1            1   1.251862  -1.932801  19.211143   96.477413  background\n",
       "2            2  24.867766 -10.772423 -72.007379   96.682095      signal\n",
       "3            3  29.999622 -20.168628 -80.223972  102.188140  background\n",
       "4            4 -29.887234  13.302332   1.014010   87.621084  background\n",
       "...        ...        ...        ...        ...         ...         ...\n",
       "9995      9995   5.808365 -13.844433  11.886233   95.065217  background\n",
       "9996      9996  47.794724  16.443474 -36.860464  107.828968  background\n",
       "9997      9997  26.211772 -23.798504  21.352053  103.279465  background\n",
       "9998      9998   5.470663   6.297953 -18.573226   94.750028  background\n",
       "9999      9999  10.756787  23.514419 -41.951395   95.440413  background\n",
       "\n",
       "[10000 rows x 6 columns]"
      ]
     },
     "execution_count": 2,
     "metadata": {},
     "output_type": "execute_result"
    }
   ],
   "source": [
    "df"
   ]
  },
  {
   "cell_type": "markdown",
   "id": "7802e538-d21a-4603-8f1b-9ec28d969b22",
   "metadata": {},
   "source": [
    "## Step 1: Compute transverse momentum\n",
    "\n",
    "$$\n",
    "p_T = \\sqrt{p_x^2 + p_y^2}\n",
    "$$\n",
    "\n",
    "<!--\n",
    "df[\"pt\"] = np.sqrt(df.px**2 + df.py**2)\n",
    "-->"
   ]
  },
  {
   "cell_type": "code",
   "execution_count": 4,
   "id": "f5ced1cd-dadd-4792-95ad-2fe5051bd9d2",
   "metadata": {},
   "outputs": [
    {
     "data": {
      "text/plain": [
       "0       1587.400048\n",
       "1          1.567157\n",
       "2        618.405781\n",
       "3        899.977301\n",
       "4        893.246736\n",
       "           ...     \n",
       "9995      33.737102\n",
       "9996    2284.335601\n",
       "9997     687.056996\n",
       "9998      29.928151\n",
       "9999     115.708471\n",
       "Name: px, Length: 10000, dtype: float64"
      ]
     },
     "execution_count": 4,
     "metadata": {},
     "output_type": "execute_result"
    }
   ],
   "source": [
    "df[\"px\"] * df[\"px\"]"
   ]
  },
  {
   "cell_type": "code",
   "execution_count": 5,
   "id": "f0f42290-59cc-4586-8e5a-f4fbe2c8e52c",
   "metadata": {},
   "outputs": [],
   "source": [
    "df[\"pt\"] = np.sqrt(df[\"px\"]* df[\"px\"] + df[\"py\"]*df[\"py\"])"
   ]
  },
  {
   "cell_type": "code",
   "execution_count": 6,
   "id": "c2a0cf3a-ca28-4f72-b14f-8b7d54885154",
   "metadata": {},
   "outputs": [
    {
     "data": {
      "text/plain": [
       "0       41.664519\n",
       "1        2.302798\n",
       "2       27.100754\n",
       "3       36.149009\n",
       "4       32.713893\n",
       "          ...    \n",
       "9995    15.013508\n",
       "9996    50.544272\n",
       "9997    35.403754\n",
       "9998     8.342203\n",
       "9999    25.858004\n",
       "Name: pt, Length: 10000, dtype: float64"
      ]
     },
     "execution_count": 6,
     "metadata": {},
     "output_type": "execute_result"
    }
   ],
   "source": [
    "df[\"pt\"]"
   ]
  },
  {
   "cell_type": "markdown",
   "id": "85235fe2-5034-4387-86f5-183db5b009b4",
   "metadata": {},
   "source": [
    "## Step 2: Select signal events with pt > 30\n",
    "\n",
    "<!--\n",
    "signal_highpt = df[(df.label == \"signal\") & (df.pt > 30)]\n",
    "-->"
   ]
  },
  {
   "cell_type": "code",
   "execution_count": 15,
   "id": "da5c8b70-41b5-4743-83a9-d2c599153911",
   "metadata": {},
   "outputs": [],
   "source": [
    "signal_highpt = df[df[\"pt\"] > 30].copy()"
   ]
  },
  {
   "cell_type": "markdown",
   "id": "728ea9d9-03dc-444e-a522-ffe88a73069b",
   "metadata": {},
   "source": [
    "Histogram of number of signal events vs pt"
   ]
  },
  {
   "cell_type": "code",
   "execution_count": 8,
   "id": "ed0672a5-29de-4dbc-a35c-9cd8073bdee5",
   "metadata": {},
   "outputs": [
    {
     "data": {
      "image/png": "[encoded data removed]",
      "text/plain": [
       "<Figure size 640x480 with 1 Axes>"
      ]
     },
     "metadata": {},
     "output_type": "display_data"
    }
   ],
   "source": [
    "signal_highpt.pt.plot.hist(bins=30)\n",
    "plt.title(\"Signal Events with $p_T > 30$ GeV\")\n",
    "plt.xlabel(\"$p_T$ (GeV)\")\n",
    "plt.ylabel(\"Entries\")\n",
    "plt.show()"
   ]
  },
  {
   "cell_type": "markdown",
   "id": "acf327fc-9458-4766-824d-a15dea500b97",
   "metadata": {},
   "source": [
    "## Step 3: Compute invariant mass:\n",
    "\n",
    "$$\n",
    "m^2 = E^2 - \\vec{p}^2\n",
    "$$\n",
    "\n",
    "<!--\n",
    "df[\"mass_squared\"] = df.E**2 - (df.px**2 + df.py**2 + df.pz**2)\n",
    "-->"
   ]
  },
  {
   "cell_type": "code",
   "execution_count": 17,
   "id": "637e4533-d9c2-4355-929c-9210c56f4f58",
   "metadata": {},
   "outputs": [],
   "source": [
    "df[\"mass_squared\"] = df[\"E\"]*df[\"E\"] - df[\"px\"]*df[\"px\"] - df[\"py\"]*df[\"py\"] - df[\"pz\"]*df[\"pz\"]"
   ]
  },
  {
   "cell_type": "code",
   "execution_count": 18,
   "id": "823474be-24c2-4713-bcbe-c91413022fbc",
   "metadata": {
    "scrolled": true
   },
   "outputs": [],
   "source": [
    "df[\"mass_squared\"] = df[\"E\"]**2 - (df[\"px\"]**2 + df[\"py\"]**2 + df[\"pz\"]**2)\n",
    "\n",
    "# Filter unphysical entries from our simple generation\n",
    "df = df[df.mass_squared > 0]\n",
    "\n",
    "df[\"mass\"] = np.sqrt(df.mass_squared)"
   ]
  },
  {
   "cell_type": "code",
   "execution_count": 19,
   "id": "a07996b1-688b-4bcd-8356-6d25be0859d9",
   "metadata": {},
   "outputs": [
    {
     "data": {
      "text/plain": [
       "0        83.419183\n",
       "1        96.008026\n",
       "2        99.175715\n",
       "3        85.410108\n",
       "4       102.034683\n",
       "           ...    \n",
       "9994     30.826518\n",
       "9995     68.015961\n",
       "9996    100.903154\n",
       "9997     97.541215\n",
       "9999     92.906788\n",
       "Name: mass, Length: 9386, dtype: float64"
      ]
     },
     "execution_count": 19,
     "metadata": {},
     "output_type": "execute_result"
    }
   ],
   "source": [
    "df[\"mass\"]"
   ]
  },
  {
   "cell_type": "markdown",
   "id": "215ec94d-fa5a-42a3-a2c5-a979d952637f",
   "metadata": {},
   "source": [
    "## Plot histogram of invariant mass for all events"
   ]
  },
  {
   "cell_type": "code",
   "execution_count": 20,
   "id": "a8362a8f-48f4-4f99-9f01-62017cb5d110",
   "metadata": {},
   "outputs": [
    {
     "data": {
      "image/png": "[encoded data removed]",
      "text/plain": [
       "<Figure size 640x480 with 1 Axes>"
      ]
     },
     "metadata": {},
     "output_type": "display_data"
    }
   ],
   "source": [
    "df.mass.plot.hist(bins=40)\n",
    "plt.title(\"Invariant Mass Distribution (All Events)\")\n",
    "plt.xlabel(\"Mass (GeV)\")\n",
    "plt.ylabel(\"Entries\")\n",
    "plt.show()"
   ]
  },
  {
   "cell_type": "code",
   "execution_count": null,
   "id": "aac9c75f-d0c0-44e8-8668-49527e06843c",
   "metadata": {},
   "outputs": [],
   "source": []
  }
 ],
 "metadata": {
  "kernelspec": {
   "display_name": "Python 3 (ipykernel)",
   "language": "python",
   "name": "python3"
  },
  "language_info": {
   "codemirror_mode": {
    "name": "ipython",
    "version": 3
   },
   "file_extension": ".py",
   "mimetype": "text/x-python",
   "name": "python",
   "nbconvert_exporter": "python",
   "pygments_lexer": "ipython3",
   "version": "3.10.18"
  }
 },
 "nbformat": 4,
 "nbformat_minor": 5
}
