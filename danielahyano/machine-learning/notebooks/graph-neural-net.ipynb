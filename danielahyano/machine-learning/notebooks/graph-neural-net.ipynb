{
 "cells": [
  {
   "cell_type": "markdown",
   "id": "e2f82ba0",
   "metadata": {
    "papermill": {
     "duration": 0.004718,
     "end_time": "2025-06-19T02:12:49.213134",
     "exception": false,
     "start_time": "2025-06-19T02:12:49.208416",
     "status": "completed"
    },
    "tags": []
   },
   "source": [
    "# Jet Tagging with Graph Neural Networks (GNN)\n",
    "\n",
    "This notebook shows how to use a GNN for jet classification between QCD and TT jets using particle-level features represented as a graph. Note that you get some GPU time on Kaggle for free (30 hrs/week). This will make training the model here faster, but note that it won't help you with the graph building, which also does take time here. Sadly you can't turn it on just to run the training, the notebook session must be run as either CPU or GPU. If you want to experiment with GNNs and the graph building becomes annoying, just save the graphs, and then load them as you need. \n",
    "\n",
    "## What is a GNN?\n",
    "A Graph Neural Network (GNN) is a type of neural network designed to process graph-structured data. It can learn from both node features and the graph structure. It can be used to predict information about nodes, links between nodes or graphs as a whole. \n",
    "\n",
    "## Why use GNNs for Jet Tagging?\n",
    "- Very flexible, can start from images or dataframes, or use both \n",
    "- Has the potential to remove areas where there is no energy deposited\n",
    "- Has the potential to include long range interactions in a way a CNN can't \n",
    "- Can handle variable number of particles"
   ]
  },
  {
   "cell_type": "markdown",
   "id": "321c3e4a",
   "metadata": {
    "papermill": {
     "duration": 0.003086,
     "end_time": "2025-06-19T02:12:54.541155",
     "exception": false,
     "start_time": "2025-06-19T02:12:54.538069",
     "status": "completed"
    },
    "tags": []
   },
   "source": [
    "## 1. Load and Prepare Data\n",
    "\n",
    "We will create the graphs from images, but there are many other ways to do it. \n",
    "\n",
    "The energy deposited in a pixel will be the node feature, and we will connect each pixel to its eight closest pixels (up, down, sides, diagonals). \n",
    "\n",
    "The graph building function written here has an option to set max_nodes, which will only choose the top n most energetic nodes. There's also an option whether to consider all nodes or not, if you set this to false, it will throw away all the pixels with 0 energy deposited. "
   ]
  },
  {
   "cell_type": "code",
   "execution_count": null,
   "id": "d42faeaf",
   "metadata": {
    "execution": {
     "iopub.execute_input": "2025-06-19T02:12:54.548181Z",
     "iopub.status.busy": "2025-06-19T02:12:54.547943Z",
     "iopub.status.idle": "2025-06-19T02:13:10.261846Z",
     "shell.execute_reply": "2025-06-19T02:13:10.261024Z"
    },
    "papermill": {
     "duration": 15.719193,
     "end_time": "2025-06-19T02:13:10.263421",
     "exception": false,
     "start_time": "2025-06-19T02:12:54.544228",
     "status": "completed"
    },
    "tags": []
   },
   "outputs": [],
   "source": [
    "import numpy as np\n",
    "import torch\n",
    "import torch.nn as nn\n",
    "import torch.nn.functional as F\n",
    "from torch_geometric.nn import GCNConv, global_mean_pool\n",
    "from torch_geometric.data import Data, DataLoader\n",
    "import sys\n",
    "sys.path.append('..')\n",
    "from utils.data_processing import load_images\n",
    "from utils.data_processing import create_graph_data\n",
    "from utils.plotting import plot_confusion_matrix, plot_training_history, plot_roc_curve\n"
   ]
  },
  {
   "cell_type": "code",
   "execution_count": 3,
   "id": "c6f57df6",
   "metadata": {
    "execution": {
     "iopub.execute_input": "2025-06-19T02:13:10.270855Z",
     "iopub.status.busy": "2025-06-19T02:13:10.270438Z",
     "iopub.status.idle": "2025-06-19T02:17:40.157133Z",
     "shell.execute_reply": "2025-06-19T02:17:40.156381Z"
    },
    "papermill": {
     "duration": 269.894618,
     "end_time": "2025-06-19T02:17:40.161382",
     "exception": false,
     "start_time": "2025-06-19T02:13:10.266764",
     "status": "completed"
    },
    "tags": []
   },
   "outputs": [
    {
     "name": "stdout",
     "output_type": "stream",
     "text": [
      "Created 3520 graphs\n",
      "Average number of nodes: 900.0\n",
      "Average number of edges: 7332.0\n",
      "Created 502 graphs\n",
      "Average number of nodes: 900.0\n",
      "Average number of edges: 7332.0\n",
      "Created 1005 graphs\n",
      "Average number of nodes: 900.0\n",
      "Average number of edges: 7332.0\n"
     ]
    }
   ],
   "source": [
    "# Load data\n",
    "X_train, y_train, train_ids, X_val, y_val, val_ids, X_test, test_ids = load_images()\n",
    "\n",
    "# Convert to graph format - this might take a bit of time to run \n",
    "X_train_graphs = create_graph_data(X_train, y_train, max_nodes=900, consider_all_nodes=True)\n",
    "X_val_graphs = create_graph_data(X_val, y_val, max_nodes=900)\n",
    "X_test_graphs = create_graph_data(X_test, max_nodes=900)\n"
   ]
  },
  {
   "cell_type": "markdown",
   "id": "55a140a8",
   "metadata": {
    "papermill": {
     "duration": 0.002742,
     "end_time": "2025-06-19T02:17:40.167339",
     "exception": false,
     "start_time": "2025-06-19T02:17:40.164597",
     "status": "completed"
    },
    "tags": []
   },
   "source": [
    "## 2. Build GNN Model\n",
    "\n",
    "We'll create a GNN with:\n",
    "- Graph Convolutional layers to learn from node features and graph structure\n",
    "- Global pooling to get graph-level representations\n",
    "- Dense layers for classification"
   ]
  },
  {
   "cell_type": "code",
   "execution_count": 4,
   "id": "79552407",
   "metadata": {
    "execution": {
     "iopub.execute_input": "2025-06-19T02:17:40.174530Z",
     "iopub.status.busy": "2025-06-19T02:17:40.173892Z",
     "iopub.status.idle": "2025-06-19T02:17:40.422377Z",
     "shell.execute_reply": "2025-06-19T02:17:40.421819Z"
    },
    "papermill": {
     "duration": 0.253491,
     "end_time": "2025-06-19T02:17:40.423676",
     "exception": false,
     "start_time": "2025-06-19T02:17:40.170185",
     "status": "completed"
    },
    "tags": []
   },
   "outputs": [],
   "source": [
    "class GNN(nn.Module):\n",
    "    def __init__(self, num_features):\n",
    "        super(GNN, self).__init__()\n",
    "        # Graph convolution layers\n",
    "        self.conv1 = GCNConv(num_features, 64)\n",
    "        self.conv2 = GCNConv(64, 32)\n",
    "        \n",
    "        # Dense layers\n",
    "        self.fc1 = nn.Linear(32, 16)\n",
    "        self.fc2 = nn.Linear(16, 1)\n",
    "        \n",
    "    def forward(self, data):\n",
    "        x, edge_index, batch = data.x, data.edge_index, data.batch\n",
    "        \n",
    "        # Graph convolution layers\n",
    "        x = F.relu(self.conv1(x, edge_index))\n",
    "        x = F.dropout(x, p=0.2, training=self.training)\n",
    "        x = F.relu(self.conv2(x, edge_index))\n",
    "        \n",
    "        # Global pooling\n",
    "        x = global_mean_pool(x, batch)\n",
    "        \n",
    "        # Dense layers\n",
    "        x = F.relu(self.fc1(x))\n",
    "        x = F.dropout(x, p=0.5, training=self.training)\n",
    "        x = self.fc2(x)\n",
    "        \n",
    "        return torch.sigmoid(x)\n",
    "\n",
    "# Create model\n",
    "device = torch.device('cuda' if torch.cuda.is_available() else 'cpu')\n",
    "\n",
    "model = GNN(num_features=1).to(device)  # 4 features: pt, eta, phi, charge\n",
    "optimizer = torch.optim.Adam(model.parameters(), lr=0.01)\n",
    "criterion = nn.BCELoss()"
   ]
  },
  {
   "cell_type": "code",
   "execution_count": 5,
   "id": "e2744fad",
   "metadata": {
    "execution": {
     "iopub.execute_input": "2025-06-19T02:17:40.431177Z",
     "iopub.status.busy": "2025-06-19T02:17:40.430579Z",
     "iopub.status.idle": "2025-06-19T02:17:40.435416Z",
     "shell.execute_reply": "2025-06-19T02:17:40.434677Z"
    },
    "papermill": {
     "duration": 0.00951,
     "end_time": "2025-06-19T02:17:40.436418",
     "exception": false,
     "start_time": "2025-06-19T02:17:40.426908",
     "status": "completed"
    },
    "tags": []
   },
   "outputs": [
    {
     "name": "stderr",
     "output_type": "stream",
     "text": [
      "/usr/local/lib/python3.11/dist-packages/torch_geometric/deprecation.py:26: UserWarning: 'data.DataLoader' is deprecated, use 'loader.DataLoader' instead\n",
      "  warnings.warn(out)\n"
     ]
    }
   ],
   "source": [
    "train_loader = DataLoader(X_train_graphs, batch_size=32, shuffle=True)\n",
    "val_loader = DataLoader(X_val_graphs, batch_size=32, shuffle=True)\n",
    "test_loader = DataLoader(X_test_graphs, batch_size=32)"
   ]
  },
  {
   "cell_type": "markdown",
   "id": "abd74eb2",
   "metadata": {
    "papermill": {
     "duration": 0.002924,
     "end_time": "2025-06-19T02:17:40.442407",
     "exception": false,
     "start_time": "2025-06-19T02:17:40.439483",
     "status": "completed"
    },
    "tags": []
   },
   "source": [
    "## 3. Train Model\n",
    "\n",
    "We'll train the GNN with:\n",
    "- Adam optimizer\n",
    "- Binary Cross Entropy loss\n",
    "- Early stopping based on validation accuracy\n",
    "\n",
    "\n",
    "You'll see this code differs a fair bit from the previous DNN and CNN. This is because we're using pytorch geometric -  the most common GNN package. It integrates with Pytorch, so we are using Pytorch instead of keras. Torch is growing to be the most popular ML libary, but keras is easier to learn. \n",
    "\n",
    "You might also see that training on CPU this is a lot slower than the other ML methods. Can you explain why? "
   ]
  },
  {
   "cell_type": "code",
   "execution_count": 6,
   "id": "86596b9e",
   "metadata": {
    "execution": {
     "iopub.execute_input": "2025-06-19T02:17:40.448990Z",
     "iopub.status.busy": "2025-06-19T02:17:40.448812Z",
     "iopub.status.idle": "2025-06-19T02:20:14.507584Z",
     "shell.execute_reply": "2025-06-19T02:20:14.506834Z"
    },
    "papermill": {
     "duration": 154.068753,
     "end_time": "2025-06-19T02:20:14.514120",
     "exception": false,
     "start_time": "2025-06-19T02:17:40.445367",
     "status": "completed"
    },
    "tags": []
   },
   "outputs": [
    {
     "name": "stdout",
     "output_type": "stream",
     "text": [
      "Epoch 000, Loss: 0.6523, Train Acc: 0.6557, Val Acc: 0.6633\n",
      "Epoch 001, Loss: 0.6078, Train Acc: 0.6560, Val Acc: 0.6614\n",
      "Epoch 002, Loss: 0.5915, Train Acc: 0.6656, Val Acc: 0.6653\n",
      "Epoch 003, Loss: 0.5881, Train Acc: 0.6651, Val Acc: 0.6614\n",
      "Epoch 004, Loss: 0.5852, Train Acc: 0.6565, Val Acc: 0.6614\n",
      "Epoch 005, Loss: 0.5679, Train Acc: 0.7122, Val Acc: 0.7131\n",
      "Epoch 006, Loss: 0.5405, Train Acc: 0.7344, Val Acc: 0.7430\n",
      "Epoch 007, Loss: 0.5217, Train Acc: 0.7244, Val Acc: 0.7331\n",
      "Epoch 008, Loss: 0.4970, Train Acc: 0.8457, Val Acc: 0.8406\n",
      "Epoch 009, Loss: 0.4944, Train Acc: 0.8537, Val Acc: 0.8466\n",
      "Epoch 010, Loss: 0.4849, Train Acc: 0.8509, Val Acc: 0.8347\n",
      "Epoch 011, Loss: 0.4772, Train Acc: 0.8435, Val Acc: 0.8367\n",
      "Epoch 012, Loss: 0.4811, Train Acc: 0.8423, Val Acc: 0.8347\n",
      "Epoch 013, Loss: 0.4804, Train Acc: 0.8565, Val Acc: 0.8526\n",
      "Epoch 014, Loss: 0.4766, Train Acc: 0.8545, Val Acc: 0.8506\n",
      "Epoch 015, Loss: 0.4696, Train Acc: 0.8557, Val Acc: 0.8506\n",
      "Epoch 016, Loss: 0.4685, Train Acc: 0.8509, Val Acc: 0.8466\n",
      "Epoch 017, Loss: 0.4795, Train Acc: 0.8639, Val Acc: 0.8625\n",
      "Epoch 018, Loss: 0.4645, Train Acc: 0.8608, Val Acc: 0.8566\n",
      "Epoch 019, Loss: 0.4694, Train Acc: 0.8548, Val Acc: 0.8486\n",
      "Epoch 020, Loss: 0.4677, Train Acc: 0.8577, Val Acc: 0.8506\n",
      "Epoch 021, Loss: 0.4757, Train Acc: 0.8614, Val Acc: 0.8546\n",
      "Epoch 022, Loss: 0.4611, Train Acc: 0.8588, Val Acc: 0.8606\n",
      "Epoch 023, Loss: 0.4592, Train Acc: 0.8585, Val Acc: 0.8546\n",
      "Epoch 024, Loss: 0.4623, Train Acc: 0.8634, Val Acc: 0.8546\n",
      "Epoch 025, Loss: 0.4735, Train Acc: 0.8611, Val Acc: 0.8506\n",
      "Epoch 026, Loss: 0.4613, Train Acc: 0.8321, Val Acc: 0.8207\n",
      "Epoch 027, Loss: 0.4793, Train Acc: 0.8545, Val Acc: 0.8446\n",
      "Epoch 028, Loss: 0.4652, Train Acc: 0.8608, Val Acc: 0.8586\n",
      "Epoch 029, Loss: 0.4718, Train Acc: 0.8594, Val Acc: 0.8606\n",
      "Epoch 030, Loss: 0.4655, Train Acc: 0.8625, Val Acc: 0.8566\n",
      "Epoch 031, Loss: 0.4710, Train Acc: 0.8514, Val Acc: 0.8466\n",
      "Epoch 032, Loss: 0.4623, Train Acc: 0.8534, Val Acc: 0.8546\n",
      "Epoch 033, Loss: 0.4670, Train Acc: 0.8060, Val Acc: 0.7849\n",
      "Epoch 034, Loss: 0.4541, Train Acc: 0.8574, Val Acc: 0.8466\n",
      "Epoch 035, Loss: 0.4711, Train Acc: 0.8577, Val Acc: 0.8586\n",
      "Epoch 036, Loss: 0.4707, Train Acc: 0.8389, Val Acc: 0.8287\n",
      "Epoch 037, Loss: 0.4703, Train Acc: 0.8477, Val Acc: 0.8486\n",
      "Epoch 038, Loss: 0.4642, Train Acc: 0.8580, Val Acc: 0.8486\n",
      "Epoch 039, Loss: 0.4594, Train Acc: 0.8551, Val Acc: 0.8566\n",
      "Epoch 040, Loss: 0.4722, Train Acc: 0.8679, Val Acc: 0.8645\n",
      "Epoch 041, Loss: 0.4673, Train Acc: 0.8554, Val Acc: 0.8486\n",
      "Epoch 042, Loss: 0.4471, Train Acc: 0.8560, Val Acc: 0.8426\n",
      "Epoch 043, Loss: 0.4586, Train Acc: 0.8679, Val Acc: 0.8606\n",
      "Epoch 044, Loss: 0.4592, Train Acc: 0.8673, Val Acc: 0.8526\n",
      "Epoch 045, Loss: 0.4716, Train Acc: 0.8207, Val Acc: 0.8088\n",
      "Epoch 046, Loss: 0.4629, Train Acc: 0.8531, Val Acc: 0.8506\n",
      "Epoch 047, Loss: 0.4529, Train Acc: 0.8642, Val Acc: 0.8586\n",
      "Epoch 048, Loss: 0.4542, Train Acc: 0.8565, Val Acc: 0.8526\n",
      "Epoch 049, Loss: 0.4585, Train Acc: 0.8554, Val Acc: 0.8486\n",
      "Epoch 050, Loss: 0.4565, Train Acc: 0.8668, Val Acc: 0.8586\n",
      "Epoch 051, Loss: 0.4464, Train Acc: 0.8639, Val Acc: 0.8586\n",
      "Epoch 052, Loss: 0.4574, Train Acc: 0.8597, Val Acc: 0.8546\n",
      "Epoch 053, Loss: 0.4584, Train Acc: 0.8077, Val Acc: 0.7988\n",
      "Epoch 054, Loss: 0.4743, Train Acc: 0.8494, Val Acc: 0.8466\n",
      "Epoch 055, Loss: 0.4558, Train Acc: 0.8639, Val Acc: 0.8546\n",
      "Epoch 056, Loss: 0.4693, Train Acc: 0.8480, Val Acc: 0.8466\n",
      "Epoch 057, Loss: 0.4631, Train Acc: 0.8486, Val Acc: 0.8506\n",
      "Epoch 058, Loss: 0.4556, Train Acc: 0.8560, Val Acc: 0.8526\n",
      "Epoch 059, Loss: 0.4570, Train Acc: 0.8676, Val Acc: 0.8625\n",
      "Epoch 060, Loss: 0.4551, Train Acc: 0.8526, Val Acc: 0.8466\n",
      "Epoch 061, Loss: 0.4506, Train Acc: 0.8696, Val Acc: 0.8625\n",
      "Epoch 062, Loss: 0.4618, Train Acc: 0.8361, Val Acc: 0.8287\n",
      "Epoch 063, Loss: 0.4661, Train Acc: 0.8457, Val Acc: 0.8426\n",
      "Epoch 064, Loss: 0.4693, Train Acc: 0.8386, Val Acc: 0.8287\n",
      "Epoch 065, Loss: 0.4671, Train Acc: 0.8676, Val Acc: 0.8546\n",
      "Epoch 066, Loss: 0.4535, Train Acc: 0.8682, Val Acc: 0.8566\n",
      "Epoch 067, Loss: 0.4625, Train Acc: 0.8634, Val Acc: 0.8566\n",
      "Epoch 068, Loss: 0.4535, Train Acc: 0.8105, Val Acc: 0.8008\n",
      "Epoch 069, Loss: 0.4559, Train Acc: 0.8631, Val Acc: 0.8566\n"
     ]
    }
   ],
   "source": [
    "def train():\n",
    "    model.train()\n",
    "    total_loss = 0\n",
    "    for data in train_loader:\n",
    "        optimizer.zero_grad()\n",
    "        out = model(data.to(device))\n",
    "        loss = criterion(out, data.y.view(-1, 1))\n",
    "        loss.backward()\n",
    "        optimizer.step()\n",
    "        total_loss += loss.item() * data.num_graphs\n",
    "    return total_loss / len(train_loader.dataset)\n",
    "\n",
    "def test(loader):\n",
    "    model.eval()\n",
    "    correct = 0\n",
    "    for data in loader:\n",
    "        out = model(data.to(device))\n",
    "        loss = criterion(out, data.y.view(-1, 1))\n",
    "        pred = (out > 0.5).float()\n",
    "        correct += int((pred == data.y.view(-1, 1)).sum())\n",
    "    return correct / len(loader.dataset), loss\n",
    "\n",
    "\n",
    "history = {\n",
    "    'loss': [],\n",
    "    'val_loss': [],\n",
    "    'accuracy': [],\n",
    "    'val_accuracy': []\n",
    "}\n",
    "\n",
    "\n",
    "# Training loop\n",
    "best_acc = 0\n",
    "for epoch in range(70):\n",
    "    loss = train()\n",
    "    train_acc = test(train_loader)[0]\n",
    "    val_acc, val_loss = test(val_loader)\n",
    "    print(f'Epoch {epoch:03d}, Loss: {loss:.4f}, Train Acc: {train_acc:.4f}, Val Acc: {val_acc:.4f}')\n",
    "    \n",
    "    if val_acc > best_acc:\n",
    "        best_acc = val_acc\n",
    "        torch.save(model.state_dict(), 'best_model.pt')\n",
    "\n",
    "\n",
    "    # Append to history\n",
    "    history['loss'].append(loss)\n",
    "    history['val_loss'].append(val_loss)\n",
    "    history['accuracy'].append(train_acc)\n",
    "    history['val_accuracy'].append(val_acc)"
   ]
  },
  {
   "cell_type": "markdown",
   "id": "5b660f89",
   "metadata": {
    "papermill": {
     "duration": 0.005328,
     "end_time": "2025-06-19T02:20:14.525062",
     "exception": false,
     "start_time": "2025-06-19T02:20:14.519734",
     "status": "completed"
    },
    "tags": []
   },
   "source": [
    "## 4. Evaluate Model\n",
    "\n",
    "Let's evaluate our model's performance on the test set."
   ]
  },
  {
   "cell_type": "code",
   "execution_count": 7,
   "id": "d7b8e88b",
   "metadata": {
    "execution": {
     "iopub.execute_input": "2025-06-19T02:20:14.536873Z",
     "iopub.status.busy": "2025-06-19T02:20:14.536620Z",
     "iopub.status.idle": "2025-06-19T02:20:14.932823Z",
     "shell.execute_reply": "2025-06-19T02:20:14.932022Z"
    },
    "papermill": {
     "duration": 0.403607,
     "end_time": "2025-06-19T02:20:14.934108",
     "exception": false,
     "start_time": "2025-06-19T02:20:14.530501",
     "status": "completed"
    },
    "tags": []
   },
   "outputs": [
    {
     "data": {
      "image/png": "[encoded data removed]",
      "text/plain": [
       "<Figure size 800x600 with 2 Axes>"
      ]
     },
     "metadata": {},
     "output_type": "display_data"
    }
   ],
   "source": [
    "# Load best model\n",
    "model.load_state_dict(torch.load('best_model.pt'))\n",
    "\n",
    "# Evaluate on test set\n",
    "model.eval()\n",
    "y_true = []\n",
    "y_pred = []\n",
    "\n",
    "with torch.no_grad(): \n",
    "    for data in val_loader:\n",
    "        out = model(data.to(device))\n",
    "        y_true.extend(data.to('cpu').y.numpy())\n",
    "        y_pred.extend(out.to('cpu').numpy())\n",
    "\n",
    "y_pred = np.array([x[0] for x in y_pred])\n",
    "pred_discrete = np.where(y_pred > 0.5, 1, 0)\n",
    "# Plot confusion matrix\n",
    "plot_confusion_matrix(y_true, pred_discrete)"
   ]
  },
  {
   "cell_type": "code",
   "execution_count": 8,
   "id": "eac9d4f0",
   "metadata": {
    "execution": {
     "iopub.execute_input": "2025-06-19T02:20:14.947847Z",
     "iopub.status.busy": "2025-06-19T02:20:14.947270Z",
     "iopub.status.idle": "2025-06-19T02:20:15.082497Z",
     "shell.execute_reply": "2025-06-19T02:20:15.081818Z"
    },
    "papermill": {
     "duration": 0.142828,
     "end_time": "2025-06-19T02:20:15.083599",
     "exception": false,
     "start_time": "2025-06-19T02:20:14.940771",
     "status": "completed"
    },
    "tags": []
   },
   "outputs": [
    {
     "data": {
      "image/png": "[encoded data removed]",
      "text/plain": [
       "<Figure size 640x480 with 1 Axes>"
      ]
     },
     "metadata": {},
     "output_type": "display_data"
    }
   ],
   "source": [
    "plot_roc_curve(y_true, y_pred)"
   ]
  },
  {
   "cell_type": "markdown",
   "id": "ec6055cb",
   "metadata": {
    "papermill": {
     "duration": 0.005924,
     "end_time": "2025-06-19T02:20:15.095921",
     "exception": false,
     "start_time": "2025-06-19T02:20:15.089997",
     "status": "completed"
    },
    "tags": []
   },
   "source": [
    "# 5 - Making predictions"
   ]
  },
  {
   "cell_type": "code",
   "execution_count": 9,
   "id": "8e884bf2",
   "metadata": {
    "execution": {
     "iopub.execute_input": "2025-06-19T02:20:15.108819Z",
     "iopub.status.busy": "2025-06-19T02:20:15.108570Z",
     "iopub.status.idle": "2025-06-19T02:20:15.371357Z",
     "shell.execute_reply": "2025-06-19T02:20:15.370572Z"
    },
    "papermill": {
     "duration": 0.270749,
     "end_time": "2025-06-19T02:20:15.372792",
     "exception": false,
     "start_time": "2025-06-19T02:20:15.102043",
     "status": "completed"
    },
    "tags": []
   },
   "outputs": [],
   "source": [
    "y_pred_test = []\n",
    "for data in test_loader:\n",
    "    with torch.no_grad():\n",
    "        output = model(data.to(device))\n",
    "        # could you change the prediction threshold? Would that make it better?\n",
    "        y_pred_test.extend(output.to('cpu').numpy())\n",
    "\n",
    "y_pred_test = np.array([x[0] for x in y_pred_test])\n"
   ]
  },
  {
   "cell_type": "code",
   "execution_count": 10,
   "id": "99994951",
   "metadata": {
    "execution": {
     "iopub.execute_input": "2025-06-19T02:20:15.386151Z",
     "iopub.status.busy": "2025-06-19T02:20:15.385926Z",
     "iopub.status.idle": "2025-06-19T02:20:15.397441Z",
     "shell.execute_reply": "2025-06-19T02:20:15.396963Z"
    },
    "papermill": {
     "duration": 0.019247,
     "end_time": "2025-06-19T02:20:15.398412",
     "exception": false,
     "start_time": "2025-06-19T02:20:15.379165",
     "status": "completed"
    },
    "tags": []
   },
   "outputs": [],
   "source": [
    "import pandas as pd\n",
    "solution = pd.DataFrame({'id':test_ids, 'label':y_pred_test})\n",
    "solution.to_csv('solution.csv', index=False)"
   ]
  },
  {
   "cell_type": "code",
   "execution_count": null,
   "id": "7953538e",
   "metadata": {
    "papermill": {
     "duration": 0.006,
     "end_time": "2025-06-19T02:20:15.410587",
     "exception": false,
     "start_time": "2025-06-19T02:20:15.404587",
     "status": "completed"
    },
    "tags": []
   },
   "outputs": [],
   "source": []
  }
 ],
 "metadata": {
  "kaggle": {
   "accelerator": "nvidiaTeslaT4",
   "dataSources": [
    {
     "databundleVersionId": 12521872,
     "isSourceIdPinned": false,
     "sourceId": 104026,
     "sourceType": "competition"
    },
    {
     "sourceId": 242701488,
     "sourceType": "kernelVersion"
    },
    {
     "sourceId": 244089811,
     "sourceType": "kernelVersion"
    },
    {
     "sourceId": 244532811,
     "sourceType": "kernelVersion"
    }
   ],
   "dockerImageVersionId": 31040,
   "isGpuEnabled": true,
   "isInternetEnabled": true,
   "language": "python",
   "sourceType": "notebook"
  },
  "kernelspec": {
   "display_name": "Python 3",
   "language": "python",
   "name": "python3"
  },
  "language_info": {
   "codemirror_mode": {
    "name": "ipython",
    "version": 3
   },
   "file_extension": ".py",
   "mimetype": "text/x-python",
   "name": "python",
   "nbconvert_exporter": "python",
   "pygments_lexer": "ipython3",
   "version": "3.12.9"
  },
  "papermill": {
   "default_parameters": {},
   "duration": 455.586765,
   "end_time": "2025-06-19T02:20:20.304870",
   "environment_variables": {},
   "exception": null,
   "input_path": "__notebook__.ipynb",
   "output_path": "__notebook__.ipynb",
   "parameters": {},
   "start_time": "2025-06-19T02:12:44.718105",
   "version": "2.6.0"
  }
 },
 "nbformat": 4,
 "nbformat_minor": 5
}
