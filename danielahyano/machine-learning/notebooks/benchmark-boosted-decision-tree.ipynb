{
 "cells": [
  {
   "cell_type": "raw",
   "id": "8844b87a",
   "metadata": {
    "_cell_guid": "b1076dfc-b9ad-4769-8c92-a6c4dae69d19",
    "_uuid": "8f2839f25d086af736a60e9eeb907d3b93b6e0e5",
    "papermill": {
     "duration": 0.003393,
     "end_time": "2025-06-19T01:52:08.969032",
     "exception": false,
     "start_time": "2025-06-19T01:52:08.965639",
     "status": "completed"
    },
    "tags": []
   },
   "source": [
    "# Jet Tagging with Boosting Decision Trees (BDT)\n",
    "\n",
    "This notebook shows how to use XGBoost for jet classification between QCD and TT jets using particle-level features.\n",
    "\n",
    "## What is XGBoost?\n",
    "XGBoost (eXtreme Gradient Boosting) is a package for gradient boosted decision trees designed for speed and performance. It can handle large datasets and is perhaps the most used Python BDT implementation. \n",
    "\n",
    "## Why use BDTs for Jet Tagging?\n",
    "- Quick to train\n",
    "- More explainable than most other ML alternatives \n",
    "- Less prone to overfitting compared to deep learning methods\n",
    "- Despite being simple, BDTs often achieve good performance on complex tasks\n",
    "\n",
    "\n",
    "\n"
   ]
  },
  {
   "cell_type": "code",
   "execution_count": 1,
   "id": "83c7a3e8",
   "metadata": {
    "execution": {
     "iopub.execute_input": "2025-06-19T01:52:08.977035Z",
     "iopub.status.busy": "2025-06-19T01:52:08.976406Z",
     "iopub.status.idle": "2025-06-19T01:52:17.944081Z",
     "shell.execute_reply": "2025-06-19T01:52:17.943130Z"
    },
    "papermill": {
     "duration": 8.973554,
     "end_time": "2025-06-19T01:52:17.945729",
     "exception": false,
     "start_time": "2025-06-19T01:52:08.972175",
     "status": "completed"
    },
    "tags": []
   },
   "outputs": [
    {
     "ename": "ModuleNotFoundError",
     "evalue": "No module named 'utils.data_processing'; 'utils' is not a package",
     "output_type": "error",
     "traceback": [
      "\u001b[31m---------------------------------------------------------------------------\u001b[39m",
      "\u001b[31mModuleNotFoundError\u001b[39m                       Traceback (most recent call last)",
      "\u001b[36mCell\u001b[39m\u001b[36m \u001b[39m\u001b[32mIn[1]\u001b[39m\u001b[32m, line 9\u001b[39m\n\u001b[32m      7\u001b[39m \u001b[38;5;28;01mimport\u001b[39;00m\u001b[38;5;250m \u001b[39m\u001b[34;01msys\u001b[39;00m\n\u001b[32m      8\u001b[39m sys.path.append(\u001b[33m'\u001b[39m\u001b[33m..\u001b[39m\u001b[33m'\u001b[39m)\n\u001b[32m----> \u001b[39m\u001b[32m9\u001b[39m \u001b[38;5;28;01mfrom\u001b[39;00m\u001b[38;5;250m \u001b[39m\u001b[34;01mutils\u001b[39;00m\u001b[34;01m.\u001b[39;00m\u001b[34;01mdata_processing\u001b[39;00m\u001b[38;5;250m \u001b[39m\u001b[38;5;28;01mimport\u001b[39;00m load_processed_data \n\u001b[32m     10\u001b[39m \u001b[38;5;28;01mfrom\u001b[39;00m\u001b[38;5;250m \u001b[39m\u001b[34;01mutils\u001b[39;00m\u001b[34;01m.\u001b[39;00m\u001b[34;01mplotting\u001b[39;00m\u001b[38;5;250m \u001b[39m\u001b[38;5;28;01mimport\u001b[39;00m plot_confusion_matrix, plot_roc_curve\n",
      "\u001b[31mModuleNotFoundError\u001b[39m: No module named 'utils.data_processing'; 'utils' is not a package"
     ]
    }
   ],
   "source": [
    "import numpy as np\n",
    "import pandas as pd\n",
    "import xgboost as xgb\n",
    "from sklearn.metrics import accuracy_score\n",
    "import matplotlib.pyplot as plt\n",
    "import seaborn as sns\n",
    "import sys\n",
    "sys.path.append('..')\n",
    "from utils.data_processing import load_processed_data \n",
    "from utils.plotting import plot_confusion_matrix, plot_roc_curve"
   ]
  },
  {
   "cell_type": "markdown",
   "id": "6b9211ca",
   "metadata": {
    "papermill": {
     "duration": 0.002557,
     "end_time": "2025-06-19T01:52:17.951388",
     "exception": false,
     "start_time": "2025-06-19T01:52:17.948831",
     "status": "completed"
    },
    "tags": []
   },
   "source": [
    "## 1. Load and Prepare Data\n",
    "\n",
    "We'll use particle-level features from the jet data. See kaggle for a detailed description of the data. "
   ]
  },
  {
   "cell_type": "code",
   "execution_count": 3,
   "id": "9c6f39a5",
   "metadata": {
    "execution": {
     "iopub.execute_input": "2025-06-19T01:52:17.958227Z",
     "iopub.status.busy": "2025-06-19T01:52:17.957744Z",
     "iopub.status.idle": "2025-06-19T01:52:18.111796Z",
     "shell.execute_reply": "2025-06-19T01:52:18.110879Z"
    },
    "papermill": {
     "duration": 0.159019,
     "end_time": "2025-06-19T01:52:18.113217",
     "exception": false,
     "start_time": "2025-06-19T01:52:17.954198",
     "status": "completed"
    },
    "tags": []
   },
   "outputs": [
    {
     "data": {
      "text/plain": [
       "(3520, 14)"
      ]
     },
     "execution_count": 3,
     "metadata": {},
     "output_type": "execute_result"
    }
   ],
   "source": [
    "# Load data\n",
    "# Create feature matrix and labels\n",
    "\n",
    "X_train, y_train, train_ids, X_val, y_val, val_ids, X_test, test_ids= load_processed_data()\n",
    "\n",
    "X_train.shape "
   ]
  },
  {
   "cell_type": "code",
   "execution_count": 3,
   "id": "b3f58a03",
   "metadata": {
    "execution": {
     "iopub.execute_input": "2025-06-19T01:52:18.120744Z",
     "iopub.status.busy": "2025-06-19T01:52:18.119939Z",
     "iopub.status.idle": "2025-06-19T01:52:18.154198Z",
     "shell.execute_reply": "2025-06-19T01:52:18.153293Z"
    },
    "papermill": {
     "duration": 0.039284,
     "end_time": "2025-06-19T01:52:18.155522",
     "exception": false,
     "start_time": "2025-06-19T01:52:18.116238",
     "status": "completed"
    },
    "tags": []
   },
   "outputs": [
    {
     "data": {
      "text/html": [
       "<div>\n",
       "<style scoped>\n",
       "    .dataframe tbody tr th:only-of-type {\n",
       "        vertical-align: middle;\n",
       "    }\n",
       "\n",
       "    .dataframe tbody tr th {\n",
       "        vertical-align: top;\n",
       "    }\n",
       "\n",
       "    .dataframe thead th {\n",
       "        text-align: right;\n",
       "    }\n",
       "</style>\n",
       "<table border=\"1\" class=\"dataframe\">\n",
       "  <thead>\n",
       "    <tr style=\"text-align: right;\">\n",
       "      <th></th>\n",
       "      <th>n_clusters</th>\n",
       "      <th>max_cluster_pt</th>\n",
       "      <th>mean_cluster_pt</th>\n",
       "      <th>std_cluster_pt</th>\n",
       "      <th>max_cluster_size</th>\n",
       "      <th>mean_cluster_size</th>\n",
       "      <th>std_cluster_size</th>\n",
       "      <th>total_pt</th>\n",
       "      <th>max_cluster_eta</th>\n",
       "      <th>max_cluster_phi</th>\n",
       "      <th>mean_cluster_eta</th>\n",
       "      <th>mean_cluster_phi</th>\n",
       "      <th>cluster_pt_ratio</th>\n",
       "      <th>cluster_size_ratio</th>\n",
       "    </tr>\n",
       "  </thead>\n",
       "  <tbody>\n",
       "    <tr>\n",
       "      <th>0</th>\n",
       "      <td>13</td>\n",
       "      <td>2.0</td>\n",
       "      <td>0.615318</td>\n",
       "      <td>0.539951</td>\n",
       "      <td>2</td>\n",
       "      <td>2.0</td>\n",
       "      <td>0.0</td>\n",
       "      <td>7.999129</td>\n",
       "      <td>0.5</td>\n",
       "      <td>0.7</td>\n",
       "      <td>0.076923</td>\n",
       "      <td>0.346154</td>\n",
       "      <td>1.470200</td>\n",
       "      <td>1.0</td>\n",
       "    </tr>\n",
       "    <tr>\n",
       "      <th>1</th>\n",
       "      <td>10</td>\n",
       "      <td>2.0</td>\n",
       "      <td>0.777020</td>\n",
       "      <td>0.601157</td>\n",
       "      <td>2</td>\n",
       "      <td>2.0</td>\n",
       "      <td>0.0</td>\n",
       "      <td>7.770204</td>\n",
       "      <td>0.2</td>\n",
       "      <td>0.5</td>\n",
       "      <td>0.100000</td>\n",
       "      <td>0.230000</td>\n",
       "      <td>1.430785</td>\n",
       "      <td>1.0</td>\n",
       "    </tr>\n",
       "    <tr>\n",
       "      <th>2</th>\n",
       "      <td>4</td>\n",
       "      <td>2.0</td>\n",
       "      <td>0.972718</td>\n",
       "      <td>0.606990</td>\n",
       "      <td>2</td>\n",
       "      <td>2.0</td>\n",
       "      <td>0.0</td>\n",
       "      <td>3.890871</td>\n",
       "      <td>0.1</td>\n",
       "      <td>0.1</td>\n",
       "      <td>0.050000</td>\n",
       "      <td>0.050000</td>\n",
       "      <td>2.557882</td>\n",
       "      <td>1.0</td>\n",
       "    </tr>\n",
       "    <tr>\n",
       "      <th>3</th>\n",
       "      <td>14</td>\n",
       "      <td>2.0</td>\n",
       "      <td>0.746367</td>\n",
       "      <td>0.485636</td>\n",
       "      <td>2</td>\n",
       "      <td>2.0</td>\n",
       "      <td>0.0</td>\n",
       "      <td>10.449135</td>\n",
       "      <td>0.5</td>\n",
       "      <td>0.5</td>\n",
       "      <td>0.185714</td>\n",
       "      <td>0.285714</td>\n",
       "      <td>1.624096</td>\n",
       "      <td>1.0</td>\n",
       "    </tr>\n",
       "    <tr>\n",
       "      <th>4</th>\n",
       "      <td>6</td>\n",
       "      <td>2.0</td>\n",
       "      <td>0.575760</td>\n",
       "      <td>0.639069</td>\n",
       "      <td>2</td>\n",
       "      <td>2.0</td>\n",
       "      <td>0.0</td>\n",
       "      <td>3.454561</td>\n",
       "      <td>0.1</td>\n",
       "      <td>0.1</td>\n",
       "      <td>0.050000</td>\n",
       "      <td>0.066667</td>\n",
       "      <td>4.988196</td>\n",
       "      <td>1.0</td>\n",
       "    </tr>\n",
       "  </tbody>\n",
       "</table>\n",
       "</div>"
      ],
      "text/plain": [
       "   n_clusters  max_cluster_pt  mean_cluster_pt  std_cluster_pt  \\\n",
       "0          13             2.0         0.615318        0.539951   \n",
       "1          10             2.0         0.777020        0.601157   \n",
       "2           4             2.0         0.972718        0.606990   \n",
       "3          14             2.0         0.746367        0.485636   \n",
       "4           6             2.0         0.575760        0.639069   \n",
       "\n",
       "   max_cluster_size  mean_cluster_size  std_cluster_size   total_pt  \\\n",
       "0                 2                2.0               0.0   7.999129   \n",
       "1                 2                2.0               0.0   7.770204   \n",
       "2                 2                2.0               0.0   3.890871   \n",
       "3                 2                2.0               0.0  10.449135   \n",
       "4                 2                2.0               0.0   3.454561   \n",
       "\n",
       "   max_cluster_eta  max_cluster_phi  mean_cluster_eta  mean_cluster_phi  \\\n",
       "0              0.5              0.7          0.076923          0.346154   \n",
       "1              0.2              0.5          0.100000          0.230000   \n",
       "2              0.1              0.1          0.050000          0.050000   \n",
       "3              0.5              0.5          0.185714          0.285714   \n",
       "4              0.1              0.1          0.050000          0.066667   \n",
       "\n",
       "   cluster_pt_ratio  cluster_size_ratio  \n",
       "0          1.470200                 1.0  \n",
       "1          1.430785                 1.0  \n",
       "2          2.557882                 1.0  \n",
       "3          1.624096                 1.0  \n",
       "4          4.988196                 1.0  "
      ]
     },
     "execution_count": 3,
     "metadata": {},
     "output_type": "execute_result"
    }
   ],
   "source": [
    "X_train.head()"
   ]
  },
  {
   "cell_type": "markdown",
   "id": "a244b91f",
   "metadata": {
    "papermill": {
     "duration": 0.002897,
     "end_time": "2025-06-19T01:52:18.161905",
     "exception": false,
     "start_time": "2025-06-19T01:52:18.159008",
     "status": "completed"
    },
    "tags": []
   },
   "source": [
    "## 2. Train XGBoost Model\n",
    "\n",
    "XGBoost has several important hyperparameters:\n",
    "- `n_estimators`: How many trees to we use \n",
    "- `max_depth`: How deep is each tree - i.e. how many decisions does it make. Can you see a reason why we might want to set a max here? \n",
    "- `learning_rate`: How big is our gradient step \n",
    "- `objective`: Learning task and objective function - since we can do classification or regression it's important to select the right one here. "
   ]
  },
  {
   "cell_type": "code",
   "execution_count": 4,
   "id": "eeee93cc",
   "metadata": {
    "execution": {
     "iopub.execute_input": "2025-06-19T01:52:18.168976Z",
     "iopub.status.busy": "2025-06-19T01:52:18.168683Z",
     "iopub.status.idle": "2025-06-19T01:52:18.454420Z",
     "shell.execute_reply": "2025-06-19T01:52:18.453491Z"
    },
    "papermill": {
     "duration": 0.291062,
     "end_time": "2025-06-19T01:52:18.455920",
     "exception": false,
     "start_time": "2025-06-19T01:52:18.164858",
     "status": "completed"
    },
    "tags": []
   },
   "outputs": [
    {
     "name": "stdout",
     "output_type": "stream",
     "text": [
      "[0]\tvalidation_0-logloss:0.58016\n",
      "[1]\tvalidation_0-logloss:0.53280\n",
      "[2]\tvalidation_0-logloss:0.49335\n",
      "[3]\tvalidation_0-logloss:0.46108\n",
      "[4]\tvalidation_0-logloss:0.43455\n",
      "[5]\tvalidation_0-logloss:0.41170\n",
      "[6]\tvalidation_0-logloss:0.39189\n",
      "[7]\tvalidation_0-logloss:0.37505\n",
      "[8]\tvalidation_0-logloss:0.36133\n",
      "[9]\tvalidation_0-logloss:0.34846\n",
      "[10]\tvalidation_0-logloss:0.33670\n",
      "[11]\tvalidation_0-logloss:0.32772\n",
      "[12]\tvalidation_0-logloss:0.31926\n",
      "[13]\tvalidation_0-logloss:0.31251\n",
      "[14]\tvalidation_0-logloss:0.30646\n",
      "[15]\tvalidation_0-logloss:0.30040\n",
      "[16]\tvalidation_0-logloss:0.29565\n",
      "[17]\tvalidation_0-logloss:0.29134\n",
      "[18]\tvalidation_0-logloss:0.28645\n",
      "[19]\tvalidation_0-logloss:0.28370\n",
      "[20]\tvalidation_0-logloss:0.28039\n",
      "[21]\tvalidation_0-logloss:0.27871\n",
      "[22]\tvalidation_0-logloss:0.27660\n",
      "[23]\tvalidation_0-logloss:0.27529\n",
      "[24]\tvalidation_0-logloss:0.27355\n",
      "[25]\tvalidation_0-logloss:0.27192\n",
      "[26]\tvalidation_0-logloss:0.27069\n",
      "[27]\tvalidation_0-logloss:0.26951\n",
      "[28]\tvalidation_0-logloss:0.26870\n",
      "[29]\tvalidation_0-logloss:0.26763\n",
      "[30]\tvalidation_0-logloss:0.26725\n",
      "[31]\tvalidation_0-logloss:0.26671\n",
      "[32]\tvalidation_0-logloss:0.26587\n",
      "[33]\tvalidation_0-logloss:0.26548\n",
      "[34]\tvalidation_0-logloss:0.26493\n",
      "[35]\tvalidation_0-logloss:0.26438\n",
      "[36]\tvalidation_0-logloss:0.26458\n",
      "[37]\tvalidation_0-logloss:0.26424\n",
      "[38]\tvalidation_0-logloss:0.26411\n",
      "[39]\tvalidation_0-logloss:0.26368\n",
      "[40]\tvalidation_0-logloss:0.26408\n",
      "[41]\tvalidation_0-logloss:0.26405\n",
      "[42]\tvalidation_0-logloss:0.26431\n",
      "[43]\tvalidation_0-logloss:0.26430\n",
      "[44]\tvalidation_0-logloss:0.26422\n",
      "[45]\tvalidation_0-logloss:0.26458\n",
      "[46]\tvalidation_0-logloss:0.26514\n",
      "[47]\tvalidation_0-logloss:0.26512\n",
      "[48]\tvalidation_0-logloss:0.26493\n",
      "[49]\tvalidation_0-logloss:0.26513\n",
      "[50]\tvalidation_0-logloss:0.26515\n",
      "[51]\tvalidation_0-logloss:0.26543\n",
      "[52]\tvalidation_0-logloss:0.26604\n",
      "[53]\tvalidation_0-logloss:0.26611\n",
      "[54]\tvalidation_0-logloss:0.26601\n",
      "[55]\tvalidation_0-logloss:0.26671\n",
      "[56]\tvalidation_0-logloss:0.26630\n",
      "[57]\tvalidation_0-logloss:0.26632\n",
      "[58]\tvalidation_0-logloss:0.26680\n",
      "[59]\tvalidation_0-logloss:0.26713\n",
      "[60]\tvalidation_0-logloss:0.26617\n",
      "[61]\tvalidation_0-logloss:0.26616\n",
      "[62]\tvalidation_0-logloss:0.26576\n",
      "[63]\tvalidation_0-logloss:0.26642\n",
      "[64]\tvalidation_0-logloss:0.26651\n",
      "[65]\tvalidation_0-logloss:0.26727\n",
      "[66]\tvalidation_0-logloss:0.26628\n",
      "[67]\tvalidation_0-logloss:0.26703\n",
      "[68]\tvalidation_0-logloss:0.26779\n",
      "[69]\tvalidation_0-logloss:0.26766\n",
      "[70]\tvalidation_0-logloss:0.26779\n",
      "[71]\tvalidation_0-logloss:0.26861\n",
      "[72]\tvalidation_0-logloss:0.26880\n",
      "[73]\tvalidation_0-logloss:0.26854\n",
      "[74]\tvalidation_0-logloss:0.26872\n",
      "[75]\tvalidation_0-logloss:0.26875\n",
      "[76]\tvalidation_0-logloss:0.26876\n",
      "[77]\tvalidation_0-logloss:0.26887\n",
      "[78]\tvalidation_0-logloss:0.26893\n",
      "[79]\tvalidation_0-logloss:0.26918\n",
      "[80]\tvalidation_0-logloss:0.26917\n",
      "[81]\tvalidation_0-logloss:0.26880\n",
      "[82]\tvalidation_0-logloss:0.26841\n",
      "[83]\tvalidation_0-logloss:0.26869\n",
      "[84]\tvalidation_0-logloss:0.26889\n",
      "[85]\tvalidation_0-logloss:0.26959\n",
      "[86]\tvalidation_0-logloss:0.26977\n",
      "[87]\tvalidation_0-logloss:0.26978\n",
      "[88]\tvalidation_0-logloss:0.26954\n",
      "[89]\tvalidation_0-logloss:0.26976\n",
      "[90]\tvalidation_0-logloss:0.26949\n",
      "[91]\tvalidation_0-logloss:0.26965\n",
      "[92]\tvalidation_0-logloss:0.26990\n",
      "[93]\tvalidation_0-logloss:0.27018\n",
      "[94]\tvalidation_0-logloss:0.27050\n",
      "[95]\tvalidation_0-logloss:0.27051\n",
      "[96]\tvalidation_0-logloss:0.27047\n",
      "[97]\tvalidation_0-logloss:0.27078\n",
      "[98]\tvalidation_0-logloss:0.27109\n",
      "[99]\tvalidation_0-logloss:0.27142\n"
     ]
    },
    {
     "data": {
      "text/html": [
       "<style>#sk-container-id-1 {color: black;background-color: white;}#sk-container-id-1 pre{padding: 0;}#sk-container-id-1 div.sk-toggleable {background-color: white;}#sk-container-id-1 label.sk-toggleable__label {cursor: pointer;display: block;width: 100%;margin-bottom: 0;padding: 0.3em;box-sizing: border-box;text-align: center;}#sk-container-id-1 label.sk-toggleable__label-arrow:before {content: \"▸\";float: left;margin-right: 0.25em;color: #696969;}#sk-container-id-1 label.sk-toggleable__label-arrow:hover:before {color: black;}#sk-container-id-1 div.sk-estimator:hover label.sk-toggleable__label-arrow:before {color: black;}#sk-container-id-1 div.sk-toggleable__content {max-height: 0;max-width: 0;overflow: hidden;text-align: left;background-color: #f0f8ff;}#sk-container-id-1 div.sk-toggleable__content pre {margin: 0.2em;color: black;border-radius: 0.25em;background-color: #f0f8ff;}#sk-container-id-1 input.sk-toggleable__control:checked~div.sk-toggleable__content {max-height: 200px;max-width: 100%;overflow: auto;}#sk-container-id-1 input.sk-toggleable__control:checked~label.sk-toggleable__label-arrow:before {content: \"▾\";}#sk-container-id-1 div.sk-estimator input.sk-toggleable__control:checked~label.sk-toggleable__label {background-color: #d4ebff;}#sk-container-id-1 div.sk-label input.sk-toggleable__control:checked~label.sk-toggleable__label {background-color: #d4ebff;}#sk-container-id-1 input.sk-hidden--visually {border: 0;clip: rect(1px 1px 1px 1px);clip: rect(1px, 1px, 1px, 1px);height: 1px;margin: -1px;overflow: hidden;padding: 0;position: absolute;width: 1px;}#sk-container-id-1 div.sk-estimator {font-family: monospace;background-color: #f0f8ff;border: 1px dotted black;border-radius: 0.25em;box-sizing: border-box;margin-bottom: 0.5em;}#sk-container-id-1 div.sk-estimator:hover {background-color: #d4ebff;}#sk-container-id-1 div.sk-parallel-item::after {content: \"\";width: 100%;border-bottom: 1px solid gray;flex-grow: 1;}#sk-container-id-1 div.sk-label:hover label.sk-toggleable__label {background-color: #d4ebff;}#sk-container-id-1 div.sk-serial::before {content: \"\";position: absolute;border-left: 1px solid gray;box-sizing: border-box;top: 0;bottom: 0;left: 50%;z-index: 0;}#sk-container-id-1 div.sk-serial {display: flex;flex-direction: column;align-items: center;background-color: white;padding-right: 0.2em;padding-left: 0.2em;position: relative;}#sk-container-id-1 div.sk-item {position: relative;z-index: 1;}#sk-container-id-1 div.sk-parallel {display: flex;align-items: stretch;justify-content: center;background-color: white;position: relative;}#sk-container-id-1 div.sk-item::before, #sk-container-id-1 div.sk-parallel-item::before {content: \"\";position: absolute;border-left: 1px solid gray;box-sizing: border-box;top: 0;bottom: 0;left: 50%;z-index: -1;}#sk-container-id-1 div.sk-parallel-item {display: flex;flex-direction: column;z-index: 1;position: relative;background-color: white;}#sk-container-id-1 div.sk-parallel-item:first-child::after {align-self: flex-end;width: 50%;}#sk-container-id-1 div.sk-parallel-item:last-child::after {align-self: flex-start;width: 50%;}#sk-container-id-1 div.sk-parallel-item:only-child::after {width: 0;}#sk-container-id-1 div.sk-dashed-wrapped {border: 1px dashed gray;margin: 0 0.4em 0.5em 0.4em;box-sizing: border-box;padding-bottom: 0.4em;background-color: white;}#sk-container-id-1 div.sk-label label {font-family: monospace;font-weight: bold;display: inline-block;line-height: 1.2em;}#sk-container-id-1 div.sk-label-container {text-align: center;}#sk-container-id-1 div.sk-container {/* jupyter's `normalize.less` sets `[hidden] { display: none; }` but bootstrap.min.css set `[hidden] { display: none !important; }` so we also need the `!important` here to be able to override the default hidden behavior on the sphinx rendered scikit-learn.org. See: https://github.com/scikit-learn/scikit-learn/issues/21755 */display: inline-block !important;position: relative;}#sk-container-id-1 div.sk-text-repr-fallback {display: none;}</style><div id=\"sk-container-id-1\" class=\"sk-top-container\"><div class=\"sk-text-repr-fallback\"><pre>XGBClassifier(base_score=None, booster=None, callbacks=None,\n",
       "              colsample_bylevel=None, colsample_bynode=None,\n",
       "              colsample_bytree=None, device=None, early_stopping_rounds=None,\n",
       "              enable_categorical=False, eval_metric=None, feature_types=None,\n",
       "              gamma=None, grow_policy=None, importance_type=None,\n",
       "              interaction_constraints=None, learning_rate=0.1, max_bin=None,\n",
       "              max_cat_threshold=None, max_cat_to_onehot=None,\n",
       "              max_delta_step=None, max_depth=5, max_leaves=None,\n",
       "              min_child_weight=None, missing=nan, monotone_constraints=None,\n",
       "              multi_strategy=None, n_estimators=100, n_jobs=None,\n",
       "              num_parallel_tree=None, random_state=42, ...)</pre><b>In a Jupyter environment, please rerun this cell to show the HTML representation or trust the notebook. <br />On GitHub, the HTML representation is unable to render, please try loading this page with nbviewer.org.</b></div><div class=\"sk-container\" hidden><div class=\"sk-item\"><div class=\"sk-estimator sk-toggleable\"><input class=\"sk-toggleable__control sk-hidden--visually\" id=\"sk-estimator-id-1\" type=\"checkbox\" checked><label for=\"sk-estimator-id-1\" class=\"sk-toggleable__label sk-toggleable__label-arrow\">XGBClassifier</label><div class=\"sk-toggleable__content\"><pre>XGBClassifier(base_score=None, booster=None, callbacks=None,\n",
       "              colsample_bylevel=None, colsample_bynode=None,\n",
       "              colsample_bytree=None, device=None, early_stopping_rounds=None,\n",
       "              enable_categorical=False, eval_metric=None, feature_types=None,\n",
       "              gamma=None, grow_policy=None, importance_type=None,\n",
       "              interaction_constraints=None, learning_rate=0.1, max_bin=None,\n",
       "              max_cat_threshold=None, max_cat_to_onehot=None,\n",
       "              max_delta_step=None, max_depth=5, max_leaves=None,\n",
       "              min_child_weight=None, missing=nan, monotone_constraints=None,\n",
       "              multi_strategy=None, n_estimators=100, n_jobs=None,\n",
       "              num_parallel_tree=None, random_state=42, ...)</pre></div></div></div></div></div>"
      ],
      "text/plain": [
       "XGBClassifier(base_score=None, booster=None, callbacks=None,\n",
       "              colsample_bylevel=None, colsample_bynode=None,\n",
       "              colsample_bytree=None, device=None, early_stopping_rounds=None,\n",
       "              enable_categorical=False, eval_metric=None, feature_types=None,\n",
       "              gamma=None, grow_policy=None, importance_type=None,\n",
       "              interaction_constraints=None, learning_rate=0.1, max_bin=None,\n",
       "              max_cat_threshold=None, max_cat_to_onehot=None,\n",
       "              max_delta_step=None, max_depth=5, max_leaves=None,\n",
       "              min_child_weight=None, missing=nan, monotone_constraints=None,\n",
       "              multi_strategy=None, n_estimators=100, n_jobs=None,\n",
       "              num_parallel_tree=None, random_state=42, ...)"
      ]
     },
     "execution_count": 4,
     "metadata": {},
     "output_type": "execute_result"
    }
   ],
   "source": [
    "# Initialize and train model\n",
    "model = xgb.XGBClassifier(\n",
    "    n_estimators=100,  # Number of boosting rounds\n",
    "    max_depth=5,      # Maximum tree depth\n",
    "    learning_rate=0.1, # Step size shrinkage\n",
    "    objective='binary:logistic',  # Binary classification\n",
    "    random_state=42\n",
    ")\n",
    "\n",
    "# Train the model\n",
    "model.fit(X_train, y_train,\n",
    "          eval_set=[(X_val, y_val)],\n",
    "          verbose=True)"
   ]
  },
  {
   "cell_type": "markdown",
   "id": "de0680a5",
   "metadata": {
    "papermill": {
     "duration": 0.007698,
     "end_time": "2025-06-19T01:52:18.472641",
     "exception": false,
     "start_time": "2025-06-19T01:52:18.464943",
     "status": "completed"
    },
    "tags": []
   },
   "source": [
    "## 3. Evaluate Model\n",
    "\n",
    "Let's evaluate our model using:\n",
    "- Accuracy: Overall prediction accuracy\n",
    "- Confusion Matrix: This is common for classifications. How often did we classify or misclassify each category? It's common that some categories are harder than others. "
   ]
  },
  {
   "cell_type": "code",
   "execution_count": 5,
   "id": "79cf3d33",
   "metadata": {
    "execution": {
     "iopub.execute_input": "2025-06-19T01:52:18.489639Z",
     "iopub.status.busy": "2025-06-19T01:52:18.489296Z",
     "iopub.status.idle": "2025-06-19T01:52:18.763947Z",
     "shell.execute_reply": "2025-06-19T01:52:18.762985Z"
    },
    "papermill": {
     "duration": 0.284883,
     "end_time": "2025-06-19T01:52:18.765393",
     "exception": false,
     "start_time": "2025-06-19T01:52:18.480510",
     "status": "completed"
    },
    "tags": []
   },
   "outputs": [
    {
     "name": "stdout",
     "output_type": "stream",
     "text": [
      "Test Accuracy: 0.8845\n"
     ]
    },
    {
     "data": {
      "image/png": "[encoded data removed]",
      "text/plain": [
       "<Figure size 800x600 with 2 Axes>"
      ]
     },
     "metadata": {},
     "output_type": "display_data"
    }
   ],
   "source": [
    "# Make predictions\n",
    "\n",
    "# this gives us probabilities for both categories - we only want for ttbar, so we select one column\n",
    "# with a binary classification, the probability for one category implies the other \n",
    "y_pred = model.predict_proba(X_val)[:, 1]\n",
    "\n",
    "# to test accuracy and confusion matrix, we need labels 0 and 1, so we set that based on a threshold\n",
    "discrete_pred = np.where(y_pred > 0.5, 1, 0)\n",
    "# Calculate accuracy\n",
    "accuracy = accuracy_score(y_val, np.where(y_pred > 0.5, 1, 0))\n",
    "print(f\"Test Accuracy: {accuracy:.4f}\")\n",
    "\n",
    "# Plot confusion matrix\n",
    "plot_confusion_matrix(y_val, discrete_pred)"
   ]
  },
  {
   "cell_type": "code",
   "execution_count": 6,
   "id": "8735b3ca",
   "metadata": {
    "execution": {
     "iopub.execute_input": "2025-06-19T01:52:18.783135Z",
     "iopub.status.busy": "2025-06-19T01:52:18.782457Z",
     "iopub.status.idle": "2025-06-19T01:52:18.945260Z",
     "shell.execute_reply": "2025-06-19T01:52:18.944435Z"
    },
    "papermill": {
     "duration": 0.17317,
     "end_time": "2025-06-19T01:52:18.946865",
     "exception": false,
     "start_time": "2025-06-19T01:52:18.773695",
     "status": "completed"
    },
    "tags": []
   },
   "outputs": [
    {
     "data": {
      "image/png": "[encoded data removed]",
      "text/plain": [
       "<Figure size 640x480 with 1 Axes>"
      ]
     },
     "metadata": {},
     "output_type": "display_data"
    }
   ],
   "source": [
    "plot_roc_curve(y_val, y_pred)"
   ]
  },
  {
   "cell_type": "markdown",
   "id": "304c2a26",
   "metadata": {
    "papermill": {
     "duration": 0.008627,
     "end_time": "2025-06-19T01:52:18.964077",
     "exception": false,
     "start_time": "2025-06-19T01:52:18.955450",
     "status": "completed"
    },
    "tags": []
   },
   "source": [
    "## 4. Feature Importance Analysis\n",
    "\n",
    "One of the advantages of BDTs is that they provide feature importance scores, which help us understand which features are most important for the classification task. Beware that this doesn't translate directly to which are the best features in the data - only to what the model thinks. So if you have a bad model, your feature importance will be equally useless. Another model could also pick up on features that the BDT didn't, so it's only an indicator. "
   ]
  },
  {
   "cell_type": "code",
   "execution_count": 7,
   "id": "a30b84c7",
   "metadata": {
    "execution": {
     "iopub.execute_input": "2025-06-19T01:52:18.982810Z",
     "iopub.status.busy": "2025-06-19T01:52:18.982467Z",
     "iopub.status.idle": "2025-06-19T01:52:19.268301Z",
     "shell.execute_reply": "2025-06-19T01:52:19.267489Z"
    },
    "papermill": {
     "duration": 0.297378,
     "end_time": "2025-06-19T01:52:19.270240",
     "exception": false,
     "start_time": "2025-06-19T01:52:18.972862",
     "status": "completed"
    },
    "tags": []
   },
   "outputs": [
    {
     "data": {
      "image/png": "[encoded data removed]",
      "text/plain": [
       "<Figure size 1000x600 with 1 Axes>"
      ]
     },
     "metadata": {},
     "output_type": "display_data"
    }
   ],
   "source": [
    "# Plot feature importance\n",
    "importance = model.feature_importances_\n",
    "feature_importance = pd.DataFrame({\n",
    "    'feature': X_train.columns,\n",
    "    'importance': importance\n",
    "}).sort_values('importance', ascending=False)\n",
    "\n",
    "plt.figure(figsize=(10, 6))\n",
    "sns.barplot(x='importance', y='feature', data=feature_importance)\n",
    "plt.title('Feature Importance')\n",
    "plt.tight_layout() \n",
    "plt.show()"
   ]
  },
  {
   "cell_type": "markdown",
   "id": "efa130f3",
   "metadata": {
    "papermill": {
     "duration": 0.009894,
     "end_time": "2025-06-19T01:52:19.290221",
     "exception": false,
     "start_time": "2025-06-19T01:52:19.280327",
     "status": "completed"
    },
    "tags": []
   },
   "source": [
    "# 5 - Make kaggle predictions¶\n"
   ]
  },
  {
   "cell_type": "code",
   "execution_count": 8,
   "id": "3546a0f6",
   "metadata": {
    "execution": {
     "iopub.execute_input": "2025-06-19T01:52:19.309883Z",
     "iopub.status.busy": "2025-06-19T01:52:19.309568Z",
     "iopub.status.idle": "2025-06-19T01:52:19.325173Z",
     "shell.execute_reply": "2025-06-19T01:52:19.324277Z"
    },
    "papermill": {
     "duration": 0.027269,
     "end_time": "2025-06-19T01:52:19.326697",
     "exception": false,
     "start_time": "2025-06-19T01:52:19.299428",
     "status": "completed"
    },
    "tags": []
   },
   "outputs": [],
   "source": [
    "test_predictions = model.predict_proba(X_test)[:, 1]\n",
    "solution = pd.DataFrame({'id':test_ids, 'label':test_predictions})\n",
    "solution.to_csv('solutions.csv', index=False)"
   ]
  },
  {
   "cell_type": "code",
   "execution_count": null,
   "id": "2f39e05c",
   "metadata": {
    "papermill": {
     "duration": 0.008798,
     "end_time": "2025-06-19T01:52:19.345039",
     "exception": false,
     "start_time": "2025-06-19T01:52:19.336241",
     "status": "completed"
    },
    "tags": []
   },
   "outputs": [],
   "source": []
  }
 ],
 "metadata": {
  "kaggle": {
   "accelerator": "none",
   "dataSources": [
    {
     "databundleVersionId": 12521872,
     "sourceId": 104026,
     "sourceType": "competition"
    },
    {
     "sourceId": 242701488,
     "sourceType": "kernelVersion"
    },
    {
     "sourceId": 244532811,
     "sourceType": "kernelVersion"
    }
   ],
   "dockerImageVersionId": 31040,
   "isGpuEnabled": false,
   "isInternetEnabled": true,
   "language": "python",
   "sourceType": "notebook"
  },
  "kernelspec": {
   "display_name": "Python 3",
   "language": "python",
   "name": "python3"
  },
  "language_info": {
   "codemirror_mode": {
    "name": "ipython",
    "version": 3
   },
   "file_extension": ".py",
   "mimetype": "text/x-python",
   "name": "python",
   "nbconvert_exporter": "python",
   "pygments_lexer": "ipython3",
   "version": "3.12.9"
  },
  "papermill": {
   "default_parameters": {},
   "duration": 18.101818,
   "end_time": "2025-06-19T01:52:22.417304",
   "environment_variables": {},
   "exception": null,
   "input_path": "__notebook__.ipynb",
   "output_path": "__notebook__.ipynb",
   "parameters": {},
   "start_time": "2025-06-19T01:52:04.315486",
   "version": "2.6.0"
  }
 },
 "nbformat": 4,
 "nbformat_minor": 5
}
