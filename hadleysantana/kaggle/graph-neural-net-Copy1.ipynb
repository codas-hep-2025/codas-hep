{
 "cells": [
  {
   "cell_type": "markdown",
   "id": "e2f82ba0",
   "metadata": {
    "papermill": {
     "duration": 0.004718,
     "end_time": "2025-06-19T02:12:49.213134",
     "exception": false,
     "start_time": "2025-06-19T02:12:49.208416",
     "status": "completed"
    },
    "tags": []
   },
   "source": [
    "# Jet Tagging with Graph Neural Networks (GNN)\n",
    "\n",
    "This notebook shows how to use a GNN for jet classification between QCD and TT jets using particle-level features represented as a graph. Note that you get some GPU time on Kaggle for free (30 hrs/week). This will make training the model here faster, but note that it won't help you with the graph building, which also does take time here. Sadly you can't turn it on just to run the training, the notebook session must be run as either CPU or GPU. If you want to experiment with GNNs and the graph building becomes annoying, just save the graphs, and then load them as you need. \n",
    "\n",
    "## What is a GNN?\n",
    "A Graph Neural Network (GNN) is a type of neural network designed to process graph-structured data. It can learn from both node features and the graph structure. It can be used to predict information about nodes, links between nodes or graphs as a whole. \n",
    "\n",
    "## Why use GNNs for Jet Tagging?\n",
    "- Very flexible, can start from images or dataframes, or use both \n",
    "- Has the potential to remove areas where there is no energy deposited\n",
    "- Has the potential to include long range interactions in a way a CNN can't \n",
    "- Can handle variable number of particles"
   ]
  },
  {
   "cell_type": "markdown",
   "id": "321c3e4a",
   "metadata": {
    "papermill": {
     "duration": 0.003086,
     "end_time": "2025-06-19T02:12:54.541155",
     "exception": false,
     "start_time": "2025-06-19T02:12:54.538069",
     "status": "completed"
    },
    "tags": []
   },
   "source": [
    "## 1. Load and Prepare Data\n",
    "\n",
    "We will create the graphs from images, but there are many other ways to do it. \n",
    "\n",
    "The energy deposited in a pixel will be the node feature, and we will connect each pixel to its eight closest pixels (up, down, sides, diagonals). \n",
    "\n",
    "The graph building function written here has an option to set max_nodes, which will only choose the top n most energetic nodes. There's also an option whether to consider all nodes or not, if you set this to false, it will throw away all the pixels with 0 energy deposited. "
   ]
  },
  {
   "cell_type": "code",
   "execution_count": 1,
   "id": "d42faeaf",
   "metadata": {
    "papermill": {
     "duration": 15.719193,
     "end_time": "2025-06-19T02:13:10.263421",
     "exception": false,
     "start_time": "2025-06-19T02:12:54.544228",
     "status": "completed"
    },
    "tags": []
   },
   "outputs": [],
   "source": [
    "import numpy as np\n",
    "import torch\n",
    "import torch.nn as nn\n",
    "import torch.nn.functional as F\n",
    "from torch_geometric.nn import GCNConv, global_mean_pool, GATConv\n",
    "from torch_geometric.data import Data, DataLoader\n",
    "import sys\n",
    "sys.path.append('..')\n",
    "from utils.data_processing import load_images\n",
    "from utils.data_processing import create_graph_data\n",
    "from utils.data_processing import load_processed_data \n",
    "from utils.plotting import plot_confusion_matrix, plot_training_history, plot_roc_curve\n"
   ]
  },
  {
   "cell_type": "code",
   "execution_count": 2,
   "id": "c6f57df6",
   "metadata": {
    "papermill": {
     "duration": 269.894618,
     "end_time": "2025-06-19T02:17:40.161382",
     "exception": false,
     "start_time": "2025-06-19T02:13:10.266764",
     "status": "completed"
    },
    "tags": []
   },
   "outputs": [
    {
     "name": "stdout",
     "output_type": "stream",
     "text": [
      "Created 3520 graphs\n",
      "Average number of nodes: 900.0\n",
      "Average number of edges: 7332.0\n",
      "Created 502 graphs\n",
      "Average number of nodes: 900.0\n",
      "Average number of edges: 7332.0\n",
      "Created 1005 graphs\n",
      "Average number of nodes: 900.0\n",
      "Average number of edges: 7332.0\n"
     ]
    }
   ],
   "source": [
    "# Load data\n",
    "X_train, y_train, train_ids, X_val, y_val, val_ids, X_test, test_ids = load_images()\n",
    "\n",
    "# Convert to graph format - this might take a bit of time to run \n",
    "X_train_graphs = create_graph_data(X_train, y_train, max_nodes=900, consider_all_nodes=True)\n",
    "X_val_graphs = create_graph_data(X_val, y_val, max_nodes=900)\n",
    "X_test_graphs = create_graph_data(X_test, max_nodes=900)\n"
   ]
  },
  {
   "cell_type": "code",
   "execution_count": 3,
   "id": "1ff50d0c-3f15-4413-a2c2-6ed74a7d0739",
   "metadata": {},
   "outputs": [
    {
     "data": {
      "text/plain": [
       "(3520, 14)"
      ]
     },
     "execution_count": 3,
     "metadata": {},
     "output_type": "execute_result"
    }
   ],
   "source": [
    "# Load global data\n",
    "X_train_glob, y_train_glob, train_ids_glob, X_val_glob, y_val_glob, val_ids_glob, X_test_glob, test_ids_glob = load_processed_data()\n",
    "X_train_glob.shape "
   ]
  },
  {
   "cell_type": "code",
   "execution_count": 56,
   "id": "b7120252-63a7-4634-a76b-c3ea99ada8d1",
   "metadata": {},
   "outputs": [
    {
     "name": "stdout",
     "output_type": "stream",
     "text": [
      "   n_clusters  max_cluster_pt  mean_cluster_pt  std_cluster_pt  \\\n",
      "0          13             2.0         0.615318        0.539951   \n",
      "1          10             2.0         0.777020        0.601157   \n",
      "\n",
      "   max_cluster_size  mean_cluster_size  std_cluster_size  total_pt  \\\n",
      "0                 2                2.0               0.0  7.999129   \n",
      "1                 2                2.0               0.0  7.770204   \n",
      "\n",
      "   max_cluster_eta  max_cluster_phi  mean_cluster_eta  mean_cluster_phi  \\\n",
      "0              0.5              0.7          0.076923          0.346154   \n",
      "1              0.2              0.5          0.100000          0.230000   \n",
      "\n",
      "   cluster_pt_ratio  cluster_size_ratio  \n",
      "0          1.470200                 1.0  \n",
      "1          1.430785                 1.0  \n"
     ]
    }
   ],
   "source": [
    "first_row = X_train_glob.head(2)\n",
    "print(first_row)"
   ]
  },
  {
   "cell_type": "code",
   "execution_count": 17,
   "id": "d5ebd3a1-acd1-4000-a5fd-2e39979170a8",
   "metadata": {},
   "outputs": [
    {
     "name": "stdout",
     "output_type": "stream",
     "text": [
      "Data(x=[900, 1], edge_index=[2, 7332], y=1.0)\n"
     ]
    }
   ],
   "source": [
    "print(X_val_graphs[0])"
   ]
  },
  {
   "cell_type": "code",
   "execution_count": 4,
   "id": "7da83301-80e1-491f-b32f-93ee58af9996",
   "metadata": {},
   "outputs": [],
   "source": [
    "X_train_global_tensor = torch.tensor(X_train_glob.values, dtype=torch.float)\n",
    "X_val_global_tensor = torch.tensor(X_val_glob.values, dtype=torch.float)\n",
    "X_test_global_tensor = torch.tensor(X_test_glob.values, dtype=torch.float)\n",
    "\n",
    "for i, data in enumerate(X_train_graphs):\n",
    "    data.global_features = X_train_global_tensor[i]\n",
    "\n",
    "for i, data in enumerate(X_val_graphs):\n",
    "    data.global_features = X_val_global_tensor[i]\n",
    "\n",
    "for i, data in enumerate(X_test_graphs):\n",
    "    data.global_features = X_test_global_tensor[i]"
   ]
  },
  {
   "cell_type": "code",
   "execution_count": 5,
   "id": "9df08322-9e62-4aab-96e2-acd65ef61451",
   "metadata": {},
   "outputs": [
    {
     "name": "stdout",
     "output_type": "stream",
     "text": [
      "tensor([13.0000,  2.0000,  0.6153,  0.5400,  2.0000,  2.0000,  0.0000,  7.9991,\n",
      "         0.5000,  0.7000,  0.0769,  0.3462,  1.4702,  1.0000])\n",
      "torch.Size([14])\n"
     ]
    }
   ],
   "source": [
    "print(X_train_graphs[0].global_features)          # A single tensor\n",
    "print(X_train_graphs[0].global_features.shape)  "
   ]
  },
  {
   "cell_type": "code",
   "execution_count": 6,
   "id": "a030cdc1-24f4-4189-8e51-80e2b58fd1be",
   "metadata": {},
   "outputs": [
    {
     "name": "stdout",
     "output_type": "stream",
     "text": [
      "0 torch.Size([14])\n",
      "1 torch.Size([14])\n",
      "2 torch.Size([14])\n"
     ]
    }
   ],
   "source": [
    "for i, data in enumerate(X_train_graphs[:3]):\n",
    "    print(i, data.global_features.shape)"
   ]
  },
  {
   "cell_type": "markdown",
   "id": "55a140a8",
   "metadata": {
    "papermill": {
     "duration": 0.002742,
     "end_time": "2025-06-19T02:17:40.167339",
     "exception": false,
     "start_time": "2025-06-19T02:17:40.164597",
     "status": "completed"
    },
    "tags": []
   },
   "source": [
    "## 2. Build GNN Model\n",
    "\n",
    "We'll create a GNN with:\n",
    "- Graph Convolutional layers to learn from node features and graph structure\n",
    "- Global pooling to get graph-level representations\n",
    "- Dense layers for classification"
   ]
  },
  {
   "cell_type": "code",
   "execution_count": 7,
   "id": "79552407",
   "metadata": {
    "papermill": {
     "duration": 0.253491,
     "end_time": "2025-06-19T02:17:40.423676",
     "exception": false,
     "start_time": "2025-06-19T02:17:40.170185",
     "status": "completed"
    },
    "tags": []
   },
   "outputs": [],
   "source": [
    "class GNN(nn.Module):\n",
    "    def __init__(self, num_node_features, num_global_features):\n",
    "        super(GNN, self).__init__()\n",
    "        # # Graph convolution layers\n",
    "        # self.conv1 = GCNConv(num_features, 64)\n",
    "        # self.conv2 = GCNConv(64, 32)\n",
    "\n",
    "        # Graph attention layers\n",
    "        self.conv1 = GATConv(num_node_features, 32, heads=2, concat=True)\n",
    "        self.conv2 = GATConv(64, 16, heads=2, concat=True)\n",
    "        self.conv3 = GATConv(32, 16, heads=1, concat=True)\n",
    "        \n",
    "        # Dense layers\n",
    "        self.fc1 = nn.Linear(16 + num_global_features, 8)\n",
    "        self.fc2 = nn.Linear(8, 1)\n",
    "        \n",
    "    def forward(self, data):\n",
    "        x, edge_index, batch = data.x, data.edge_index, data.batch\n",
    "        global_feat = data.global_features  # shape: [num_graphs, num_global_features]\n",
    "        \n",
    "        # Graph convolution layers\n",
    "        x = F.relu(self.conv1(x, edge_index))\n",
    "        x = F.dropout(x, p=0.2, training=self.training)\n",
    "        x = F.relu(self.conv2(x, edge_index))\n",
    "        x = F.dropout(x, p=0.2, training=self.training)\n",
    "        x = F.relu(self.conv3(x, edge_index))\n",
    "        \n",
    "        # Global pooling\n",
    "        x = global_mean_pool(x, batch)\n",
    "\n",
    "        if global_feat.dim() == 1:\n",
    "            global_feat = global_feat.unsqueeze(0)\n",
    "\n",
    "        print(f\"x shape: {x.shape}, global_feat shape: {global_feat.shape}\")\n",
    "\n",
    "        # Concatenate global features\n",
    "        x = torch.cat([x, global_feat], dim=1)  # shape: [num_graphs, 16 + num_global_features]\n",
    "        \n",
    "        # Dense layers\n",
    "        x = F.relu(self.fc1(x))\n",
    "        x = F.dropout(x, p=0.5, training=self.training)\n",
    "        x = self.fc2(x)\n",
    "        \n",
    "        return torch.sigmoid(x)\n",
    "\n",
    "# Create model\n",
    "device = torch.device('cuda' if torch.cuda.is_available() else 'cpu')\n",
    "\n",
    "model = GNN(num_node_features=1, num_global_features=14).to(device)  # 4 features: pt, eta, phi, charge\n",
    "optimizer = torch.optim.Adam(model.parameters(), lr=0.01)\n",
    "criterion = nn.BCELoss()"
   ]
  },
  {
   "cell_type": "code",
   "execution_count": 8,
   "id": "e2744fad",
   "metadata": {
    "papermill": {
     "duration": 0.00951,
     "end_time": "2025-06-19T02:17:40.436418",
     "exception": false,
     "start_time": "2025-06-19T02:17:40.426908",
     "status": "completed"
    },
    "tags": []
   },
   "outputs": [
    {
     "name": "stderr",
     "output_type": "stream",
     "text": [
      "/srv/conda/envs/notebook/lib/python3.11/site-packages/torch_geometric/deprecation.py:26: UserWarning: 'data.DataLoader' is deprecated, use 'loader.DataLoader' instead\n",
      "  warnings.warn(out)\n"
     ]
    }
   ],
   "source": [
    "train_loader = DataLoader(X_train_graphs, batch_size=32, shuffle=True)\n",
    "val_loader = DataLoader(X_val_graphs, batch_size=32, shuffle=True)\n",
    "test_loader = DataLoader(X_test_graphs, batch_size=32)"
   ]
  },
  {
   "cell_type": "markdown",
   "id": "abd74eb2",
   "metadata": {
    "papermill": {
     "duration": 0.002924,
     "end_time": "2025-06-19T02:17:40.442407",
     "exception": false,
     "start_time": "2025-06-19T02:17:40.439483",
     "status": "completed"
    },
    "tags": []
   },
   "source": [
    "## 3. Train Model\n",
    "\n",
    "We'll train the GNN with:\n",
    "- Adam optimizer\n",
    "- Binary Cross Entropy loss\n",
    "- Early stopping based on validation accuracy\n",
    "\n",
    "\n",
    "You'll see this code differs a fair bit from the previous DNN and CNN. This is because we're using pytorch geometric -  the most common GNN package. It integrates with Pytorch, so we are using Pytorch instead of keras. Torch is growing to be the most popular ML libary, but keras is easier to learn. \n",
    "\n",
    "You might also see that training on CPU this is a lot slower than the other ML methods. Can you explain why? "
   ]
  },
  {
   "cell_type": "code",
   "execution_count": 9,
   "id": "86596b9e",
   "metadata": {
    "papermill": {
     "duration": 154.068753,
     "end_time": "2025-06-19T02:20:14.514120",
     "exception": false,
     "start_time": "2025-06-19T02:17:40.445367",
     "status": "completed"
    },
    "tags": []
   },
   "outputs": [
    {
     "name": "stdout",
     "output_type": "stream",
     "text": [
      "x shape: torch.Size([32, 16]), global_feat shape: torch.Size([1, 448])\n"
     ]
    },
    {
     "ename": "RuntimeError",
     "evalue": "Sizes of tensors must match except in dimension 1. Expected size 32 but got size 1 for tensor number 1 in the list.",
     "output_type": "error",
     "traceback": [
      "\u001b[0;31m---------------------------------------------------------------------------\u001b[0m",
      "\u001b[0;31mRuntimeError\u001b[0m                              Traceback (most recent call last)",
      "Cell \u001b[0;32mIn[9], line 35\u001b[0m\n\u001b[1;32m     33\u001b[0m best_acc \u001b[38;5;241m=\u001b[39m \u001b[38;5;241m0\u001b[39m\n\u001b[1;32m     34\u001b[0m \u001b[38;5;28;01mfor\u001b[39;00m epoch \u001b[38;5;129;01min\u001b[39;00m \u001b[38;5;28mrange\u001b[39m(\u001b[38;5;241m70\u001b[39m):\n\u001b[0;32m---> 35\u001b[0m     loss \u001b[38;5;241m=\u001b[39m \u001b[43mtrain\u001b[49m\u001b[43m(\u001b[49m\u001b[43m)\u001b[49m\n\u001b[1;32m     36\u001b[0m     train_acc \u001b[38;5;241m=\u001b[39m test(train_loader)[\u001b[38;5;241m0\u001b[39m]\n\u001b[1;32m     37\u001b[0m     val_acc, val_loss \u001b[38;5;241m=\u001b[39m test(val_loader)\n",
      "Cell \u001b[0;32mIn[9], line 6\u001b[0m, in \u001b[0;36mtrain\u001b[0;34m()\u001b[0m\n\u001b[1;32m      4\u001b[0m \u001b[38;5;28;01mfor\u001b[39;00m data \u001b[38;5;129;01min\u001b[39;00m train_loader:\n\u001b[1;32m      5\u001b[0m     optimizer\u001b[38;5;241m.\u001b[39mzero_grad()\n\u001b[0;32m----> 6\u001b[0m     out \u001b[38;5;241m=\u001b[39m \u001b[43mmodel\u001b[49m\u001b[43m(\u001b[49m\u001b[43mdata\u001b[49m\u001b[38;5;241;43m.\u001b[39;49m\u001b[43mto\u001b[49m\u001b[43m(\u001b[49m\u001b[43mdevice\u001b[49m\u001b[43m)\u001b[49m\u001b[43m)\u001b[49m\n\u001b[1;32m      7\u001b[0m     loss \u001b[38;5;241m=\u001b[39m criterion(out, data\u001b[38;5;241m.\u001b[39my\u001b[38;5;241m.\u001b[39mview(\u001b[38;5;241m-\u001b[39m\u001b[38;5;241m1\u001b[39m, \u001b[38;5;241m1\u001b[39m))\n\u001b[1;32m      8\u001b[0m     loss\u001b[38;5;241m.\u001b[39mbackward()\n",
      "File \u001b[0;32m/srv/conda/envs/notebook/lib/python3.11/site-packages/torch/nn/modules/module.py:1501\u001b[0m, in \u001b[0;36mModule._call_impl\u001b[0;34m(self, *args, **kwargs)\u001b[0m\n\u001b[1;32m   1496\u001b[0m \u001b[38;5;66;03m# If we don't have any hooks, we want to skip the rest of the logic in\u001b[39;00m\n\u001b[1;32m   1497\u001b[0m \u001b[38;5;66;03m# this function, and just call forward.\u001b[39;00m\n\u001b[1;32m   1498\u001b[0m \u001b[38;5;28;01mif\u001b[39;00m \u001b[38;5;129;01mnot\u001b[39;00m (\u001b[38;5;28mself\u001b[39m\u001b[38;5;241m.\u001b[39m_backward_hooks \u001b[38;5;129;01mor\u001b[39;00m \u001b[38;5;28mself\u001b[39m\u001b[38;5;241m.\u001b[39m_backward_pre_hooks \u001b[38;5;129;01mor\u001b[39;00m \u001b[38;5;28mself\u001b[39m\u001b[38;5;241m.\u001b[39m_forward_hooks \u001b[38;5;129;01mor\u001b[39;00m \u001b[38;5;28mself\u001b[39m\u001b[38;5;241m.\u001b[39m_forward_pre_hooks\n\u001b[1;32m   1499\u001b[0m         \u001b[38;5;129;01mor\u001b[39;00m _global_backward_pre_hooks \u001b[38;5;129;01mor\u001b[39;00m _global_backward_hooks\n\u001b[1;32m   1500\u001b[0m         \u001b[38;5;129;01mor\u001b[39;00m _global_forward_hooks \u001b[38;5;129;01mor\u001b[39;00m _global_forward_pre_hooks):\n\u001b[0;32m-> 1501\u001b[0m     \u001b[38;5;28;01mreturn\u001b[39;00m \u001b[43mforward_call\u001b[49m\u001b[43m(\u001b[49m\u001b[38;5;241;43m*\u001b[39;49m\u001b[43margs\u001b[49m\u001b[43m,\u001b[49m\u001b[43m \u001b[49m\u001b[38;5;241;43m*\u001b[39;49m\u001b[38;5;241;43m*\u001b[39;49m\u001b[43mkwargs\u001b[49m\u001b[43m)\u001b[49m\n\u001b[1;32m   1502\u001b[0m \u001b[38;5;66;03m# Do not call functions when jit is used\u001b[39;00m\n\u001b[1;32m   1503\u001b[0m full_backward_hooks, non_full_backward_hooks \u001b[38;5;241m=\u001b[39m [], []\n",
      "Cell \u001b[0;32mIn[7], line 37\u001b[0m, in \u001b[0;36mGNN.forward\u001b[0;34m(self, data)\u001b[0m\n\u001b[1;32m     34\u001b[0m \u001b[38;5;28mprint\u001b[39m(\u001b[38;5;124mf\u001b[39m\u001b[38;5;124m\"\u001b[39m\u001b[38;5;124mx shape: \u001b[39m\u001b[38;5;132;01m{\u001b[39;00mx\u001b[38;5;241m.\u001b[39mshape\u001b[38;5;132;01m}\u001b[39;00m\u001b[38;5;124m, global_feat shape: \u001b[39m\u001b[38;5;132;01m{\u001b[39;00mglobal_feat\u001b[38;5;241m.\u001b[39mshape\u001b[38;5;132;01m}\u001b[39;00m\u001b[38;5;124m\"\u001b[39m)\n\u001b[1;32m     36\u001b[0m \u001b[38;5;66;03m# Concatenate global features\u001b[39;00m\n\u001b[0;32m---> 37\u001b[0m x \u001b[38;5;241m=\u001b[39m \u001b[43mtorch\u001b[49m\u001b[38;5;241;43m.\u001b[39;49m\u001b[43mcat\u001b[49m\u001b[43m(\u001b[49m\u001b[43m[\u001b[49m\u001b[43mx\u001b[49m\u001b[43m,\u001b[49m\u001b[43m \u001b[49m\u001b[43mglobal_feat\u001b[49m\u001b[43m]\u001b[49m\u001b[43m,\u001b[49m\u001b[43m \u001b[49m\u001b[43mdim\u001b[49m\u001b[38;5;241;43m=\u001b[39;49m\u001b[38;5;241;43m1\u001b[39;49m\u001b[43m)\u001b[49m  \u001b[38;5;66;03m# shape: [num_graphs, 16 + num_global_features]\u001b[39;00m\n\u001b[1;32m     39\u001b[0m \u001b[38;5;66;03m# Dense layers\u001b[39;00m\n\u001b[1;32m     40\u001b[0m x \u001b[38;5;241m=\u001b[39m F\u001b[38;5;241m.\u001b[39mrelu(\u001b[38;5;28mself\u001b[39m\u001b[38;5;241m.\u001b[39mfc1(x))\n",
      "\u001b[0;31mRuntimeError\u001b[0m: Sizes of tensors must match except in dimension 1. Expected size 32 but got size 1 for tensor number 1 in the list."
     ]
    }
   ],
   "source": [
    "def train():\n",
    "    model.train()\n",
    "    total_loss = 0\n",
    "    for data in train_loader:\n",
    "        optimizer.zero_grad()\n",
    "        out = model(data.to(device))\n",
    "        loss = criterion(out, data.y.view(-1, 1))\n",
    "        loss.backward()\n",
    "        optimizer.step()\n",
    "        total_loss += loss.item() * data.num_graphs\n",
    "    return total_loss / len(train_loader.dataset)\n",
    "\n",
    "def test(loader):\n",
    "    model.eval()\n",
    "    correct = 0\n",
    "    for data in loader:\n",
    "        out = model(data.to(device))\n",
    "        loss = criterion(out, data.y.view(-1, 1))\n",
    "        pred = (out > 0.5).float()\n",
    "        correct += int((pred == data.y.view(-1, 1)).sum())\n",
    "    return correct / len(loader.dataset), loss\n",
    "\n",
    "\n",
    "history = {\n",
    "    'loss': [],\n",
    "    'val_loss': [],\n",
    "    'accuracy': [],\n",
    "    'val_accuracy': []\n",
    "}\n",
    "\n",
    "\n",
    "# Training loop\n",
    "best_acc = 0\n",
    "for epoch in range(70):\n",
    "    loss = train()\n",
    "    train_acc = test(train_loader)[0]\n",
    "    val_acc, val_loss = test(val_loader)\n",
    "    print(f'Epoch {epoch:03d}, Loss: {loss:.4f}, Train Acc: {train_acc:.4f}, Val Acc: {val_acc:.4f}')\n",
    "    \n",
    "    if val_acc > best_acc:\n",
    "        best_acc = val_acc\n",
    "        torch.save(model.state_dict(), 'best_model.pt')\n",
    "\n",
    "\n",
    "    # Append to history\n",
    "    history['loss'].append(loss)\n",
    "    history['val_loss'].append(val_loss)\n",
    "    history['accuracy'].append(train_acc)\n",
    "    history['val_accuracy'].append(val_acc)"
   ]
  },
  {
   "cell_type": "markdown",
   "id": "5b660f89",
   "metadata": {
    "papermill": {
     "duration": 0.005328,
     "end_time": "2025-06-19T02:20:14.525062",
     "exception": false,
     "start_time": "2025-06-19T02:20:14.519734",
     "status": "completed"
    },
    "tags": []
   },
   "source": [
    "## 4. Evaluate Model\n",
    "\n",
    "Let's evaluate our model's performance on the test set."
   ]
  },
  {
   "cell_type": "code",
   "execution_count": 40,
   "id": "d7b8e88b",
   "metadata": {
    "papermill": {
     "duration": 0.403607,
     "end_time": "2025-06-19T02:20:14.934108",
     "exception": false,
     "start_time": "2025-06-19T02:20:14.530501",
     "status": "completed"
    },
    "tags": []
   },
   "outputs": [
    {
     "data": {
      "image/png": "[encoded data removed]",
      "text/plain": [
       "<Figure size 800x600 with 2 Axes>"
      ]
     },
     "metadata": {},
     "output_type": "display_data"
    }
   ],
   "source": [
    "# Load best model\n",
    "model.load_state_dict(torch.load('best_model.pt'))\n",
    "\n",
    "# Evaluate on test set\n",
    "model.eval()\n",
    "y_true = []\n",
    "y_pred = []\n",
    "\n",
    "with torch.no_grad(): \n",
    "    for data in val_loader:\n",
    "        out = model(data.to(device))\n",
    "        y_true.extend(data.to('cpu').y.numpy())\n",
    "        y_pred.extend(out.to('cpu').numpy())\n",
    "\n",
    "y_pred = np.array([x[0] for x in y_pred])\n",
    "pred_discrete = np.where(y_pred > 0.5, 1, 0)\n",
    "# Plot confusion matrix\n",
    "plot_confusion_matrix(y_true, pred_discrete)"
   ]
  },
  {
   "cell_type": "code",
   "execution_count": 44,
   "id": "eac9d4f0",
   "metadata": {
    "papermill": {
     "duration": 0.142828,
     "end_time": "2025-06-19T02:20:15.083599",
     "exception": false,
     "start_time": "2025-06-19T02:20:14.940771",
     "status": "completed"
    },
    "tags": []
   },
   "outputs": [
    {
     "data": {
      "image/png": "[encoded data removed]",
      "text/plain": [
       "<Figure size 1000x1000 with 1 Axes>"
      ]
     },
     "metadata": {},
     "output_type": "display_data"
    }
   ],
   "source": [
    "plot_roc_curve(y_true, y_pred)"
   ]
  },
  {
   "cell_type": "markdown",
   "id": "ec6055cb",
   "metadata": {
    "papermill": {
     "duration": 0.005924,
     "end_time": "2025-06-19T02:20:15.095921",
     "exception": false,
     "start_time": "2025-06-19T02:20:15.089997",
     "status": "completed"
    },
    "tags": []
   },
   "source": [
    "# 5 - Making predictions"
   ]
  },
  {
   "cell_type": "code",
   "execution_count": 42,
   "id": "8e884bf2",
   "metadata": {
    "papermill": {
     "duration": 0.270749,
     "end_time": "2025-06-19T02:20:15.372792",
     "exception": false,
     "start_time": "2025-06-19T02:20:15.102043",
     "status": "completed"
    },
    "tags": []
   },
   "outputs": [],
   "source": [
    "y_pred_test = []\n",
    "for data in test_loader:\n",
    "    with torch.no_grad():\n",
    "        output = model(data.to(device))\n",
    "        # could you change the prediction threshold? Would that make it better?\n",
    "        y_pred_test.extend(output.to('cpu').numpy())\n",
    "\n",
    "y_pred_test = np.array([x[0] for x in y_pred_test])\n"
   ]
  },
  {
   "cell_type": "code",
   "execution_count": 43,
   "id": "99994951",
   "metadata": {
    "papermill": {
     "duration": 0.019247,
     "end_time": "2025-06-19T02:20:15.398412",
     "exception": false,
     "start_time": "2025-06-19T02:20:15.379165",
     "status": "completed"
    },
    "tags": []
   },
   "outputs": [],
   "source": [
    "import pandas as pd\n",
    "solution = pd.DataFrame({'id':test_ids, 'label':y_pred_test})\n",
    "solution.to_csv('solution.csv', index=False)"
   ]
  },
  {
   "cell_type": "code",
   "execution_count": null,
   "id": "7953538e",
   "metadata": {
    "papermill": {
     "duration": 0.006,
     "end_time": "2025-06-19T02:20:15.410587",
     "exception": false,
     "start_time": "2025-06-19T02:20:15.404587",
     "status": "completed"
    },
    "tags": []
   },
   "outputs": [],
   "source": []
  }
 ],
 "metadata": {
  "kaggle": {
   "accelerator": "nvidiaTeslaT4",
   "dataSources": [
    {
     "databundleVersionId": 12521872,
     "isSourceIdPinned": false,
     "sourceId": 104026,
     "sourceType": "competition"
    },
    {
     "sourceId": 242701488,
     "sourceType": "kernelVersion"
    },
    {
     "sourceId": 244089811,
     "sourceType": "kernelVersion"
    },
    {
     "sourceId": 244532811,
     "sourceType": "kernelVersion"
    }
   ],
   "dockerImageVersionId": 31040,
   "isGpuEnabled": true,
   "isInternetEnabled": true,
   "language": "python",
   "sourceType": "notebook"
  },
  "kernelspec": {
   "display_name": "Python 3 (ipykernel)",
   "language": "python",
   "name": "python3"
  },
  "language_info": {
   "codemirror_mode": {
    "name": "ipython",
    "version": 3
   },
   "file_extension": ".py",
   "mimetype": "text/x-python",
   "name": "python",
   "nbconvert_exporter": "python",
   "pygments_lexer": "ipython3",
   "version": "3.11.13"
  },
  "papermill": {
   "default_parameters": {},
   "duration": 455.586765,
   "end_time": "2025-06-19T02:20:20.304870",
   "environment_variables": {},
   "exception": null,
   "input_path": "__notebook__.ipynb",
   "output_path": "__notebook__.ipynb",
   "parameters": {},
   "start_time": "2025-06-19T02:12:44.718105",
   "version": "2.6.0"
  }
 },
 "nbformat": 4,
 "nbformat_minor": 5
}
