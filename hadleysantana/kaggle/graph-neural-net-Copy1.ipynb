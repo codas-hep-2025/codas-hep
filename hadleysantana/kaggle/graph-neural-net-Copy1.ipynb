{
 "cells": [
  {
   "cell_type": "markdown",
   "id": "e2f82ba0",
   "metadata": {
    "papermill": {
     "duration": 0.004718,
     "end_time": "2025-06-19T02:12:49.213134",
     "exception": false,
     "start_time": "2025-06-19T02:12:49.208416",
     "status": "completed"
    },
    "tags": []
   },
   "source": [
    "# Jet Tagging with Graph Neural Networks (GNN)\n",
    "\n",
    "This notebook shows how to use a GNN for jet classification between QCD and TT jets using particle-level features represented as a graph. Note that you get some GPU time on Kaggle for free (30 hrs/week). This will make training the model here faster, but note that it won't help you with the graph building, which also does take time here. Sadly you can't turn it on just to run the training, the notebook session must be run as either CPU or GPU. If you want to experiment with GNNs and the graph building becomes annoying, just save the graphs, and then load them as you need. \n",
    "\n",
    "## What is a GNN?\n",
    "A Graph Neural Network (GNN) is a type of neural network designed to process graph-structured data. It can learn from both node features and the graph structure. It can be used to predict information about nodes, links between nodes or graphs as a whole. \n",
    "\n",
    "## Why use GNNs for Jet Tagging?\n",
    "- Very flexible, can start from images or dataframes, or use both \n",
    "- Has the potential to remove areas where there is no energy deposited\n",
    "- Has the potential to include long range interactions in a way a CNN can't \n",
    "- Can handle variable number of particles"
   ]
  },
  {
   "cell_type": "markdown",
   "id": "321c3e4a",
   "metadata": {
    "papermill": {
     "duration": 0.003086,
     "end_time": "2025-06-19T02:12:54.541155",
     "exception": false,
     "start_time": "2025-06-19T02:12:54.538069",
     "status": "completed"
    },
    "tags": []
   },
   "source": [
    "## 1. Load and Prepare Data\n",
    "\n",
    "We will create the graphs from images, but there are many other ways to do it. \n",
    "\n",
    "The energy deposited in a pixel will be the node feature, and we will connect each pixel to its eight closest pixels (up, down, sides, diagonals). \n",
    "\n",
    "The graph building function written here has an option to set max_nodes, which will only choose the top n most energetic nodes. There's also an option whether to consider all nodes or not, if you set this to false, it will throw away all the pixels with 0 energy deposited. "
   ]
  },
  {
   "cell_type": "code",
   "execution_count": 1,
   "id": "d42faeaf",
   "metadata": {
    "papermill": {
     "duration": 15.719193,
     "end_time": "2025-06-19T02:13:10.263421",
     "exception": false,
     "start_time": "2025-06-19T02:12:54.544228",
     "status": "completed"
    },
    "tags": []
   },
   "outputs": [],
   "source": [
    "import numpy as np\n",
    "import torch\n",
    "import torch.nn as nn\n",
    "import torch.nn.functional as F\n",
    "from torch_geometric.nn import GCNConv, global_mean_pool, GATConv\n",
    "from torch_geometric.data import Data, DataLoader\n",
    "import sys\n",
    "sys.path.append('..')\n",
    "from utils.data_processing import load_images\n",
    "from utils.data_processing import create_graph_data\n",
    "from utils.data_processing import load_processed_data \n",
    "from utils.plotting import plot_confusion_matrix, plot_training_history, plot_roc_curve\n"
   ]
  },
  {
   "cell_type": "code",
   "execution_count": 2,
   "id": "63f8938b-8752-427f-837f-2bd210441269",
   "metadata": {},
   "outputs": [],
   "source": [
    "# Load data\n",
    "X_train, y_train, train_ids, X_val, y_val, val_ids, X_test, test_ids = load_images()"
   ]
  },
  {
   "cell_type": "code",
   "execution_count": 3,
   "id": "949311cd-1c27-4d2c-92f9-dd7451c8fed2",
   "metadata": {},
   "outputs": [],
   "source": [
    "from utils.data_processing import anti_kt_clustering, extract_cluster_features\n",
    "from utils.data_loading import process_jet_to_clusters\n",
    "from torch_geometric.utils import dense_to_sparse\n",
    "\n",
    "def compute_eccentricity(pt, eta, phi):\n",
    "    # Compute weighted mean\n",
    "    eta_mean = (pt * eta).sum() / pt.sum()\n",
    "    phi_mean = (pt * phi).sum() / pt.sum()\n",
    "    \n",
    "    # Center coordinates\n",
    "    eta_centered = eta - eta_mean\n",
    "    phi_centered = phi - phi_mean\n",
    "    \n",
    "    # Weighted covariance matrix components\n",
    "    w = pt\n",
    "    cov_00 = (w * eta_centered * eta_centered).sum() / w.sum()\n",
    "    cov_01 = (w * eta_centered * phi_centered).sum() / w.sum()\n",
    "    cov_11 = (w * phi_centered * phi_centered).sum() / w.sum()\n",
    "    \n",
    "    cov = torch.tensor([[cov_00, cov_01],\n",
    "                        [cov_01, cov_11]])\n",
    "    \n",
    "    eigvals = torch.linalg.eigvalsh(cov)\n",
    "    eccentricity = torch.sqrt(1 - eigvals.min() / eigvals.max()).item()\n",
    "    return eccentricity\n",
    "\n",
    "def create_cluster_data(jet_images, labels=None, max_nodes=12, test_ids = None):\n",
    "    data_list=[]\n",
    "    nodeless=[]\n",
    "    if labels is None:\n",
    "        labels = np.zeros(len(jet_images))\n",
    "    for i, (image, label) in enumerate(zip(jet_images, labels)):\n",
    "        clusters=anti_kt_clustering(image, R=0.4, pt_min=0.05)\n",
    "        for j, c in enumerate(clusters):\n",
    "            cl=c[0].tolist()\n",
    "            clusters[j]=cl\n",
    "        clusters=np.array(clusters)\n",
    "        clusters=clusters[clusters[:, 2].argsort()]\n",
    "        n_nodes=len(clusters)\n",
    "        if n_nodes < 2:\n",
    "            # print(f\"Warning: Graph {i} has too few nodes\")\n",
    "            # continue\n",
    "            if test_ids is not None:\n",
    "                nodeless.append(test_ids[i])\n",
    "            else:\n",
    "                nodeless.append(i)\n",
    "        if n_nodes > max_nodes:\n",
    "            # clusters=np.sort(clusters, axis=0)\n",
    "            clusters=clusters[n_nodes-max_nodes:]\n",
    "            n_nodes=len(clusters)\n",
    "        node_features=clusters\n",
    "        adj_matrix = np.zeros((n_nodes, n_nodes))\n",
    "        edge_features = np.zeros((n_nodes, n_nodes))\n",
    "        for k in range(n_nodes):\n",
    "            indices = np.arange(n_nodes)\n",
    "            indices = np.delete(indices, k)\n",
    "            adj_matrix[k, indices] = 1\n",
    "            adj_matrix[indices, k] = 1  # Make it symmetric\n",
    "        \n",
    "        x = torch.FloatTensor(clusters).view(-1, 3)\n",
    "        adj = torch.ones((n_nodes, n_nodes)) - torch.eye(n_nodes)\n",
    "        edge_index = dense_to_sparse(adj)[0]  # shape [2, num_edges]\n",
    "\n",
    "        # Compute edge features as difference between node features\n",
    "        row, col = edge_index\n",
    "        edge_attr = x[row] - x[col]  # shape: [num_edges, 3]\n",
    "\n",
    "        # --- Global features ---\n",
    "        pt = x[:, 2]\n",
    "        eta = x[:, 0]\n",
    "        phi = x[:, 1]\n",
    "        \n",
    "        global_features = torch.tensor([\n",
    "            float(x.shape[0]),               # num_nodes\n",
    "            # float(pt.var(unbiased=False)),   # var pt\n",
    "            # float(eta.var(unbiased=False)),  # var eta\n",
    "            # float(pt.sum()),                 # total pt\n",
    "            # float(compute_eccentricity(pt, eta, phi))\n",
    "            float(pt.max()),\n",
    "            float(eta.abs().max())\n",
    "        ], dtype=torch.float)\n",
    "\n",
    "        y_tensor = torch.tensor(label, dtype=torch.float)\n",
    "        # data = Data(x=x, edge_index=edge_index, edge_attr=edge_attr, y=y_tensor, global_features=global_features)\n",
    "        if n_nodes < 3:\n",
    "            x = torch.zeros((1, 3), dtype=torch.float)           # 3 = num_node_features\n",
    "            edge_index = torch.empty((2, 0), dtype=torch.long)\n",
    "            edge_attr = torch.empty((0, 3), dtype=torch.float)   # 3 = edge feature dim\n",
    "            data = Data(x=x, edge_index=edge_index, edge_attr=edge_attr, \n",
    "                        global_features=global_features,\n",
    "                        y=y_tensor,\n",
    "                        use_gnn=False)\n",
    "        else:\n",
    "            data = Data(x=x,\n",
    "                        edge_index=edge_index,\n",
    "                        edge_attr=edge_attr,\n",
    "                        global_features=global_features,\n",
    "                        y=y_tensor,\n",
    "                        use_gnn=True)\n",
    "        data_list.append(data)\n",
    "    # print(f\"Created {len(data_list)} graphs\")\n",
    "    # print(f\"Average number of nodes: {np.mean([data.num_nodes for data in data_list]):.1f}\")\n",
    "    # print(f\"Average number of edges: {np.mean([data.num_edges for data in data_list]):.1f}\")\n",
    "    \n",
    "    return data_list, nodeless"
   ]
  },
  {
   "cell_type": "code",
   "execution_count": 4,
   "id": "3c9ce53e-e823-4fd8-9d56-a9f525adf046",
   "metadata": {},
   "outputs": [],
   "source": [
    "# Convert to graph format - this might take a bit of time to run \n",
    "X_train_graphs, X_train_nodeless = create_cluster_data(X_train, y_train, max_nodes=12)\n",
    "X_val_graphs, X_val_nodeless = create_cluster_data(X_val, y_val, max_nodes=12)\n",
    "X_test_graphs, X_test_nodeless = create_cluster_data(X_test, max_nodes=12, test_ids=test_ids)"
   ]
  },
  {
   "cell_type": "code",
   "execution_count": 5,
   "id": "a7aa7025-b581-4be7-89cb-8f04f0f0801e",
   "metadata": {},
   "outputs": [
    {
     "name": "stdout",
     "output_type": "stream",
     "text": [
      "30\n",
      "6\n",
      "8\n",
      "1005\n"
     ]
    }
   ],
   "source": [
    "print(len(X_train_nodeless))\n",
    "print(len(X_val_nodeless))\n",
    "print(len(X_test_nodeless))\n",
    "print(len(X_test_graphs))"
   ]
  },
  {
   "cell_type": "code",
   "execution_count": 3,
   "id": "c6f57df6",
   "metadata": {
    "papermill": {
     "duration": 269.894618,
     "end_time": "2025-06-19T02:17:40.161382",
     "exception": false,
     "start_time": "2025-06-19T02:13:10.266764",
     "status": "completed"
    },
    "tags": []
   },
   "outputs": [
    {
     "name": "stdout",
     "output_type": "stream",
     "text": [
      "Created 3520 graphs\n",
      "Average number of nodes: 900.0\n",
      "Average number of edges: 7332.0\n",
      "Created 502 graphs\n",
      "Average number of nodes: 900.0\n",
      "Average number of edges: 7332.0\n",
      "Created 1005 graphs\n",
      "Average number of nodes: 900.0\n",
      "Average number of edges: 7332.0\n"
     ]
    }
   ],
   "source": [
    "# # Convert to graph format - this might take a bit of time to run \n",
    "# X_train_graphs = create_graph_data(X_train, y_train, max_nodes=900, consider_all_nodes=True)\n",
    "# X_val_graphs = create_graph_data(X_val, y_val, max_nodes=900)\n",
    "# X_test_graphs = create_graph_data(X_test, max_nodes=900)\n"
   ]
  },
  {
   "cell_type": "code",
   "execution_count": 59,
   "id": "1ff50d0c-3f15-4413-a2c2-6ed74a7d0739",
   "metadata": {},
   "outputs": [
    {
     "data": {
      "text/plain": [
       "(3520, 14)"
      ]
     },
     "execution_count": 59,
     "metadata": {},
     "output_type": "execute_result"
    }
   ],
   "source": [
    "# Load global data\n",
    "X_train_glob, y_train_glob, train_ids_glob, X_val_glob, y_val_glob, val_ids_glob, X_test_glob, test_ids_glob = load_processed_data()\n",
    "X_train_glob.shape "
   ]
  },
  {
   "cell_type": "code",
   "execution_count": 169,
   "id": "7da83301-80e1-491f-b32f-93ee58af9996",
   "metadata": {},
   "outputs": [
    {
     "ename": "NameError",
     "evalue": "name 'X_train_glob' is not defined",
     "output_type": "error",
     "traceback": [
      "\u001b[0;31m---------------------------------------------------------------------------\u001b[0m",
      "\u001b[0;31mNameError\u001b[0m                                 Traceback (most recent call last)",
      "Cell \u001b[0;32mIn[169], line 5\u001b[0m\n\u001b[1;32m      1\u001b[0m \u001b[38;5;66;03m# X_train_global_tensor = torch.tensor(X_train_glob.values, dtype=torch.float)\u001b[39;00m\n\u001b[1;32m      2\u001b[0m \u001b[38;5;66;03m# X_val_global_tensor = torch.tensor(X_val_glob.values, dtype=torch.float)\u001b[39;00m\n\u001b[1;32m      3\u001b[0m \u001b[38;5;66;03m# X_test_global_tensor = torch.tensor(X_test_glob.values, dtype=torch.float)\u001b[39;00m\n\u001b[0;32m----> 5\u001b[0m test_np\u001b[38;5;241m=\u001b[39m\u001b[43mX_train_glob\u001b[49m\u001b[38;5;241m.\u001b[39mto_numpy()\n\u001b[1;32m      6\u001b[0m \u001b[38;5;28mprint\u001b[39m(test_np\u001b[38;5;241m.\u001b[39mshape)\n\u001b[1;32m      7\u001b[0m X_train_graphs2\u001b[38;5;241m=\u001b[39m[]\n",
      "\u001b[0;31mNameError\u001b[0m: name 'X_train_glob' is not defined"
     ]
    }
   ],
   "source": [
    "# X_train_global_tensor = torch.tensor(X_train_glob.values, dtype=torch.float)\n",
    "# X_val_global_tensor = torch.tensor(X_val_glob.values, dtype=torch.float)\n",
    "# X_test_global_tensor = torch.tensor(X_test_glob.values, dtype=torch.float)\n",
    "\n",
    "test_np=X_train_glob.to_numpy()\n",
    "print(test_np.shape)\n",
    "X_train_graphs2=[]\n",
    "for i, data in enumerate(X_train_graphs):\n",
    "    glob_feat = torch.FloatTensor(test_np[i]).view(-1, 1)\n",
    "    # data.global_features = glob_feat\n",
    "    # data.global_features = torch.tensor(X_train_glob.iloc[i].values, dtype=torch.float32)\n",
    "    # print(glob_feat.shape)\n",
    "    gf=glob_feat\n",
    "    X_train_graphs2.append(Data(x=data.x, edge_index=data.edge_index, y=data.y, global_features=gf))\n",
    "\n",
    "test_np=X_val_glob.to_numpy()\n",
    "for i, data in enumerate(X_val_graphs):\n",
    "    # glob_feat = torch.FloatTensor(test_np[i]).view(-1, 1)\n",
    "    # data.global_features = glob_feat\n",
    "    data.global_features = torch.tensor(X_val_glob.iloc[i].values, dtype=torch.float32)\n",
    "\n",
    "test_np=X_test_glob.to_numpy()\n",
    "for i, data in enumerate(X_test_graphs):\n",
    "    # glob_feat = torch.FloatTensor(test_np[i]).view(-1, 1)\n",
    "    # data.global_features = glob_feat\n",
    "    data.global_features = torch.tensor(X_test_glob.iloc[i].values, dtype=torch.float32)"
   ]
  },
  {
   "cell_type": "markdown",
   "id": "55a140a8",
   "metadata": {
    "papermill": {
     "duration": 0.002742,
     "end_time": "2025-06-19T02:17:40.167339",
     "exception": false,
     "start_time": "2025-06-19T02:17:40.164597",
     "status": "completed"
    },
    "tags": []
   },
   "source": [
    "## 2. Build GNN Model\n",
    "\n",
    "We'll create a GNN with:\n",
    "- Graph Convolutional layers to learn from node features and graph structure\n",
    "- Global pooling to get graph-level representations\n",
    "- Dense layers for classification"
   ]
  },
  {
   "cell_type": "code",
   "execution_count": 6,
   "id": "79552407",
   "metadata": {
    "papermill": {
     "duration": 0.253491,
     "end_time": "2025-06-19T02:17:40.423676",
     "exception": false,
     "start_time": "2025-06-19T02:17:40.170185",
     "status": "completed"
    },
    "tags": []
   },
   "outputs": [],
   "source": [
    "from torch_geometric.nn import NNConv\n",
    "from torch_geometric.nn import TransformerConv\n",
    "\n",
    "class GNN(nn.Module):\n",
    "    def __init__(self, num_node_features, edge_feat_dim=3, global_feat_dim=3):\n",
    "        super(GNN, self).__init__()\n",
    "        # # # Graph convolution layers\n",
    "        # # self.conv1 = GCNConv(num_features, 64)\n",
    "        # # self.conv2 = GCNConv(64, 32)\n",
    "\n",
    "        # # # Graph attention layers\n",
    "        # # self.conv1 = GATConv(num_node_features, 32, heads=2, concat=True)\n",
    "        # # self.conv2 = GATConv(64, 16, heads=2, concat=True)\n",
    "        # # self.conv3 = GATConv(32, 16, heads=1, concat=True)\n",
    "\n",
    "        # self.conv1 = GCNConv(num_node_features, 64)\n",
    "        # self.conv2 = GCNConv(64, 32)\n",
    "        # self.conv3 = GCNConv(32, 16)\n",
    "        \n",
    "        # # Dense layers\n",
    "        # self.fc1 = nn.Linear(16, 8)\n",
    "        # self.fc2 = nn.Linear(8, 1)\n",
    "\n",
    "        # # # global feature embedding \n",
    "        # # self.gf1 = nn.Linear(420, 8)\n",
    "\n",
    "        # # Edge network for NNConv (maps edge_attr to weights for the message passing)\n",
    "        # self.nn1 = nn.Sequential(nn.Linear(edge_feat_dim, 32), nn.ReLU(), nn.Linear(32, num_node_features * 64))\n",
    "        # self.nn2 = nn.Sequential(nn.Linear(edge_feat_dim, 32), nn.ReLU(), nn.Linear(32, 64 * 32))\n",
    "        # self.nn3 = nn.Sequential(nn.Linear(edge_feat_dim, 32), nn.ReLU(), nn.Linear(32, 32 * 16))\n",
    "\n",
    "        # self.conv1 = NNConv(num_node_features, 64, self.nn1, aggr='mean')\n",
    "        # self.conv2 = NNConv(64, 32, self.nn2, aggr='mean')\n",
    "        # self.conv3 = NNConv(32, 16, self.nn3, aggr='mean')\n",
    "        \n",
    "        # self.fc1 = nn.Linear(16, 8)\n",
    "        # self.fc2 = nn.Linear(8, 1)\n",
    "\n",
    "        # self.conv1 = TransformerConv(in_channels=num_node_features, out_channels=64, edge_dim=edge_feat_dim, heads=2)\n",
    "        # self.conv2 = TransformerConv(in_channels=64 * 2, out_channels=32, edge_dim=edge_feat_dim, heads=2)\n",
    "        # self.conv3 = TransformerConv(in_channels=32 * 2, out_channels=16, edge_dim=edge_feat_dim, heads=1)\n",
    "\n",
    "        # self.fc1 = nn.Linear(16+8, 8)\n",
    "        # self.fc2 = nn.Linear(8, 1)\n",
    "\n",
    "        self.conv1 = TransformerConv(in_channels=num_node_features, out_channels=64, edge_dim=edge_feat_dim, heads=2)\n",
    "        self.conv2 = TransformerConv(in_channels=64 * 2, out_channels=32, edge_dim=edge_feat_dim, heads=2)\n",
    "        self.conv3 = TransformerConv(in_channels=32 * 2, out_channels=16, edge_dim=edge_feat_dim, heads=1)\n",
    "\n",
    "        self.global_mlp = nn.Sequential(\n",
    "            nn.Linear(global_feat_dim, 8),\n",
    "            nn.ReLU(),\n",
    "            nn.Linear(8, 8)\n",
    "        )\n",
    "\n",
    "        self.global_only_mlp = nn.Sequential(\n",
    "            nn.Linear(global_feat_dim, 16),\n",
    "            nn.ReLU(),\n",
    "            nn.Linear(16, 1)  # output dim = num_classes\n",
    "        )\n",
    "\n",
    "        self.fc1 = nn.Linear(16 + 8, 8)\n",
    "        # self.fc1 = nn.Linear(16, 8)\n",
    "        self.fc2 = nn.Linear(8, 1)\n",
    "        \n",
    "    def forward(self, data):\n",
    "        if not data.use_gnn.any():\n",
    "            x=self.global_only_mlp(data.global_features)\n",
    "            return torch.sigmoid(x)\n",
    "        # x, edge_index, batch = data.x, data.edge_index, data.batch\n",
    "        # # global_feat = data.global_features  # shape: [num_graphs, num_global_features]\n",
    "        # # print(f\"x shape: {x.shape}\")\n",
    "        # # Graph convolution layers\n",
    "        # x = F.relu(self.conv1(x, edge_index))\n",
    "        # x = F.dropout(x, p=0.2, training=self.training)\n",
    "        # x = F.relu(self.conv2(x, edge_index))\n",
    "        # x = F.dropout(x, p=0.2, training=self.training)\n",
    "        # x = F.relu(self.conv3(x, edge_index))\n",
    "        \n",
    "        # # Global pooling\n",
    "        # x = global_mean_pool(x, batch)\n",
    "\n",
    "        # # print(f\"x shape: {x.shape}, global_feat shape: {global_feat.shape}\") \n",
    "\n",
    "        # # Concatenate global features\n",
    "        \n",
    "        # # Dense layers\n",
    "        # x = F.relu(self.fc1(x))\n",
    "        # x = F.dropout(x, p=0.5, training=self.training)\n",
    "        # x = self.fc2(x)\n",
    "\n",
    "        # # global_feat=global_feat.T\n",
    "        # # global_x = self.gf1(global_feat)\n",
    "        # # global_x=global_x.T\n",
    "        # # print(f\"x shape: {x.shape}, global_x shape: {global_x.shape}\") \n",
    "        # # x = torch.cat([x, global_x], dim=0)  # shape: [num_graphs, 16 + num_global_features]\n",
    "\n",
    "        # x, edge_index, edge_attr, batch = data.x, data.edge_index, data.edge_attr, data.batch\n",
    "        \n",
    "        # x = F.relu(self.conv1(x, edge_index, edge_attr))\n",
    "        # x = F.dropout(x, p=0.2, training=self.training)\n",
    "        # x = F.relu(self.conv2(x, edge_index, edge_attr))\n",
    "        # x = F.dropout(x, p=0.2, training=self.training)\n",
    "        # x = F.relu(self.conv3(x, edge_index, edge_attr))\n",
    "        \n",
    "        # x = global_mean_pool(x, batch)\n",
    "        # x = F.relu(self.fc1(x))\n",
    "        # x = F.dropout(x, p=0.5, training=self.training)\n",
    "        # x = self.fc2(x)\n",
    "\n",
    "        # x, edge_index, edge_attr, batch = data.x, data.edge_index, data.edge_attr, data.batch\n",
    "\n",
    "        # x = F.relu(self.conv1(x, edge_index, edge_attr))\n",
    "        # x = F.dropout(x, p=0.2, training=self.training)\n",
    "        # x = F.relu(self.conv2(x, edge_index, edge_attr))\n",
    "        # x = F.dropout(x, p=0.2, training=self.training)\n",
    "        # x = F.relu(self.conv3(x, edge_index, edge_attr))\n",
    "\n",
    "        # x = global_mean_pool(x, batch)\n",
    "        # x = F.relu(self.fc1(x))\n",
    "        # x = F.dropout(x, p=0.5, training=self.training)\n",
    "        # x = self.fc2(x)\n",
    "\n",
    "        x, edge_index, edge_attr, batch = data.x, data.edge_index, data.edge_attr, data.batch\n",
    "        global_feat = data.global_features  # shape: [num_graphs, global_feat_dim]\n",
    "\n",
    "        x = F.relu(self.conv1(x, edge_index, edge_attr))\n",
    "        x = F.dropout(x, p=0.2, training=self.training)\n",
    "        x = F.relu(self.conv2(x, edge_index, edge_attr))\n",
    "        x = F.dropout(x, p=0.2, training=self.training)\n",
    "        x = F.relu(self.conv3(x, edge_index, edge_attr))\n",
    "\n",
    "        x = global_mean_pool(x, batch)  # [num_graphs, 16]\n",
    "        g = self.global_mlp(global_feat.view(-1, 3))  # [num_graphs, 8]\n",
    "\n",
    "        x = torch.cat([x, g], dim=1)  # [num_graphs, 24]\n",
    "        x = F.relu(self.fc1(x))\n",
    "        x = F.dropout(x, p=0.5, training=self.training)\n",
    "        x = self.fc2(x)\n",
    "\n",
    "        return torch.sigmoid(x)\n",
    "\n",
    "# Create model\n",
    "device = torch.device('cuda' if torch.cuda.is_available() else 'cpu')\n",
    "# device = torch.device('cpu')\n",
    "\n",
    "model = GNN(num_node_features=3).to(device)  # 4 features: pt, eta, phi, charge\n",
    "optimizer = torch.optim.Adam(model.parameters(), lr=0.01)\n",
    "criterion = nn.BCELoss()"
   ]
  },
  {
   "cell_type": "code",
   "execution_count": 7,
   "id": "e2744fad",
   "metadata": {
    "papermill": {
     "duration": 0.00951,
     "end_time": "2025-06-19T02:17:40.436418",
     "exception": false,
     "start_time": "2025-06-19T02:17:40.426908",
     "status": "completed"
    },
    "tags": []
   },
   "outputs": [
    {
     "name": "stderr",
     "output_type": "stream",
     "text": [
      "/srv/conda/envs/notebook/lib/python3.11/site-packages/torch_geometric/deprecation.py:26: UserWarning: 'data.DataLoader' is deprecated, use 'loader.DataLoader' instead\n",
      "  warnings.warn(out)\n"
     ]
    }
   ],
   "source": [
    "train_loader = DataLoader(X_train_graphs, batch_size=30, shuffle=True)\n",
    "val_loader = DataLoader(X_val_graphs, batch_size=30, shuffle=True)\n",
    "test_loader = DataLoader(X_test_graphs, batch_size=30)"
   ]
  },
  {
   "cell_type": "markdown",
   "id": "abd74eb2",
   "metadata": {
    "papermill": {
     "duration": 0.002924,
     "end_time": "2025-06-19T02:17:40.442407",
     "exception": false,
     "start_time": "2025-06-19T02:17:40.439483",
     "status": "completed"
    },
    "tags": []
   },
   "source": [
    "## 3. Train Model\n",
    "\n",
    "We'll train the GNN with:\n",
    "- Adam optimizer\n",
    "- Binary Cross Entropy loss\n",
    "- Early stopping based on validation accuracy\n",
    "\n",
    "\n",
    "You'll see this code differs a fair bit from the previous DNN and CNN. This is because we're using pytorch geometric -  the most common GNN package. It integrates with Pytorch, so we are using Pytorch instead of keras. Torch is growing to be the most popular ML libary, but keras is easier to learn. \n",
    "\n",
    "You might also see that training on CPU this is a lot slower than the other ML methods. Can you explain why? "
   ]
  },
  {
   "cell_type": "code",
   "execution_count": 11,
   "id": "86596b9e",
   "metadata": {
    "papermill": {
     "duration": 154.068753,
     "end_time": "2025-06-19T02:20:14.514120",
     "exception": false,
     "start_time": "2025-06-19T02:17:40.445367",
     "status": "completed"
    },
    "tags": []
   },
   "outputs": [
    {
     "name": "stdout",
     "output_type": "stream",
     "text": [
      "Epoch 000, Loss: 0.3138, Train Acc: 0.9091, Val Acc: 0.8984\n",
      "Epoch 001, Loss: 0.3014, Train Acc: 0.9085, Val Acc: 0.8984\n",
      "Epoch 002, Loss: 0.2912, Train Acc: 0.9017, Val Acc: 0.8944\n",
      "Epoch 003, Loss: 0.2893, Train Acc: 0.9114, Val Acc: 0.8984\n",
      "Epoch 004, Loss: 0.2924, Train Acc: 0.9065, Val Acc: 0.8984\n",
      "Epoch 005, Loss: 0.2967, Train Acc: 0.9028, Val Acc: 0.8924\n",
      "Epoch 006, Loss: 0.2882, Train Acc: 0.9082, Val Acc: 0.9024\n",
      "Epoch 007, Loss: 0.2927, Train Acc: 0.9014, Val Acc: 0.8845\n",
      "Epoch 008, Loss: 0.2958, Train Acc: 0.9099, Val Acc: 0.8904\n",
      "Epoch 009, Loss: 0.2917, Train Acc: 0.8918, Val Acc: 0.8745\n",
      "Epoch 010, Loss: 0.3054, Train Acc: 0.9068, Val Acc: 0.8944\n",
      "Epoch 011, Loss: 0.2916, Train Acc: 0.9071, Val Acc: 0.8964\n",
      "Epoch 012, Loss: 0.2857, Train Acc: 0.9082, Val Acc: 0.8944\n",
      "Epoch 013, Loss: 0.2894, Train Acc: 0.9082, Val Acc: 0.8924\n",
      "Epoch 014, Loss: 0.2968, Train Acc: 0.9102, Val Acc: 0.8924\n",
      "Epoch 015, Loss: 0.2943, Train Acc: 0.9119, Val Acc: 0.8944\n",
      "Epoch 016, Loss: 0.3047, Train Acc: 0.9119, Val Acc: 0.9004\n",
      "Epoch 017, Loss: 0.2823, Train Acc: 0.9097, Val Acc: 0.8924\n",
      "Epoch 018, Loss: 0.2835, Train Acc: 0.9031, Val Acc: 0.8865\n",
      "Epoch 019, Loss: 0.3019, Train Acc: 0.9102, Val Acc: 0.8904\n",
      "Epoch 020, Loss: 0.2937, Train Acc: 0.9131, Val Acc: 0.8865\n",
      "Epoch 021, Loss: 0.2748, Train Acc: 0.8994, Val Acc: 0.8785\n",
      "Epoch 022, Loss: 0.2965, Train Acc: 0.9094, Val Acc: 0.8884\n",
      "Epoch 023, Loss: 0.2977, Train Acc: 0.9108, Val Acc: 0.8865\n",
      "Epoch 024, Loss: 0.2880, Train Acc: 0.9097, Val Acc: 0.8865\n",
      "Epoch 025, Loss: 0.2927, Train Acc: 0.9099, Val Acc: 0.8785\n",
      "Epoch 026, Loss: 0.2887, Train Acc: 0.9045, Val Acc: 0.8765\n",
      "Epoch 027, Loss: 0.2955, Train Acc: 0.9116, Val Acc: 0.8944\n",
      "Epoch 028, Loss: 0.2827, Train Acc: 0.9102, Val Acc: 0.8745\n",
      "Epoch 029, Loss: 0.2884, Train Acc: 0.9031, Val Acc: 0.8785\n",
      "Epoch 030, Loss: 0.2942, Train Acc: 0.9071, Val Acc: 0.8884\n",
      "Epoch 031, Loss: 0.2895, Train Acc: 0.9108, Val Acc: 0.8904\n",
      "Epoch 032, Loss: 0.2875, Train Acc: 0.9085, Val Acc: 0.8964\n",
      "Epoch 033, Loss: 0.2935, Train Acc: 0.9139, Val Acc: 0.8825\n",
      "Epoch 034, Loss: 0.2728, Train Acc: 0.9122, Val Acc: 0.8865\n",
      "Epoch 035, Loss: 0.2856, Train Acc: 0.9088, Val Acc: 0.8884\n",
      "Epoch 036, Loss: 0.2856, Train Acc: 0.9074, Val Acc: 0.8805\n",
      "Epoch 037, Loss: 0.2883, Train Acc: 0.9125, Val Acc: 0.8765\n",
      "Epoch 038, Loss: 0.2936, Train Acc: 0.9054, Val Acc: 0.8745\n",
      "Epoch 039, Loss: 0.3007, Train Acc: 0.9122, Val Acc: 0.8904\n",
      "Epoch 040, Loss: 0.2917, Train Acc: 0.9128, Val Acc: 0.8884\n",
      "Epoch 041, Loss: 0.2909, Train Acc: 0.8972, Val Acc: 0.8825\n",
      "Epoch 042, Loss: 0.2861, Train Acc: 0.9116, Val Acc: 0.8805\n",
      "Epoch 043, Loss: 0.2911, Train Acc: 0.9122, Val Acc: 0.8785\n",
      "Epoch 044, Loss: 0.2785, Train Acc: 0.9017, Val Acc: 0.8546\n",
      "Epoch 045, Loss: 0.2913, Train Acc: 0.9105, Val Acc: 0.8785\n",
      "Epoch 046, Loss: 0.2966, Train Acc: 0.9045, Val Acc: 0.8805\n",
      "Epoch 047, Loss: 0.2806, Train Acc: 0.9116, Val Acc: 0.8825\n",
      "Epoch 048, Loss: 0.2848, Train Acc: 0.9128, Val Acc: 0.8884\n",
      "Epoch 049, Loss: 0.2944, Train Acc: 0.9077, Val Acc: 0.8865\n",
      "Epoch 050, Loss: 0.2814, Train Acc: 0.9108, Val Acc: 0.8944\n",
      "Epoch 051, Loss: 0.2816, Train Acc: 0.9097, Val Acc: 0.8884\n",
      "Epoch 052, Loss: 0.2890, Train Acc: 0.9128, Val Acc: 0.8904\n",
      "Epoch 053, Loss: 0.2822, Train Acc: 0.9122, Val Acc: 0.8825\n",
      "Epoch 054, Loss: 0.2832, Train Acc: 0.8940, Val Acc: 0.8805\n",
      "Epoch 055, Loss: 0.2925, Train Acc: 0.9134, Val Acc: 0.8924\n",
      "Epoch 056, Loss: 0.2807, Train Acc: 0.9097, Val Acc: 0.8865\n",
      "Epoch 057, Loss: 0.2842, Train Acc: 0.9014, Val Acc: 0.8904\n",
      "Epoch 058, Loss: 0.2854, Train Acc: 0.9085, Val Acc: 0.8845\n",
      "Epoch 059, Loss: 0.2931, Train Acc: 0.9094, Val Acc: 0.8785\n"
     ]
    }
   ],
   "source": [
    "def train():\n",
    "    model.train()\n",
    "    total_loss = 0\n",
    "    for data in train_loader:\n",
    "        optimizer.zero_grad()\n",
    "        out = model(data.to(device))\n",
    "        loss = criterion(out, data.y.view(-1, 1))\n",
    "        loss.backward()\n",
    "        optimizer.step()\n",
    "        total_loss += loss.item() * data.num_graphs\n",
    "    return total_loss / len(train_loader.dataset)\n",
    "\n",
    "def test(loader):\n",
    "    model.eval()\n",
    "    correct = 0\n",
    "    for data in loader:\n",
    "        out = model(data.to(device))\n",
    "        loss = criterion(out, data.y.view(-1, 1))\n",
    "        pred = (out > 0.5).float()\n",
    "        correct += int((pred == data.y.view(-1, 1)).sum())\n",
    "    return correct / len(loader.dataset), loss\n",
    "\n",
    "\n",
    "history = {\n",
    "    'loss': [],\n",
    "    'val_loss': [],\n",
    "    'accuracy': [],\n",
    "    'val_accuracy': []\n",
    "}\n",
    "\n",
    "\n",
    "# Training loop\n",
    "best_acc = 0\n",
    "for epoch in range(60):\n",
    "    loss = train()\n",
    "    train_acc = test(train_loader)[0]\n",
    "    val_acc, val_loss = test(val_loader)\n",
    "    print(f'Epoch {epoch:03d}, Loss: {loss:.4f}, Train Acc: {train_acc:.4f}, Val Acc: {val_acc:.4f}')\n",
    "    \n",
    "    if val_acc > best_acc:\n",
    "        best_acc = val_acc\n",
    "        torch.save(model.state_dict(), 'best_model.pt')\n",
    "\n",
    "\n",
    "    # Append to history\n",
    "    history['loss'].append(loss)\n",
    "    history['val_loss'].append(val_loss)\n",
    "    history['accuracy'].append(train_acc)\n",
    "    history['val_accuracy'].append(val_acc)"
   ]
  },
  {
   "cell_type": "markdown",
   "id": "5b660f89",
   "metadata": {
    "papermill": {
     "duration": 0.005328,
     "end_time": "2025-06-19T02:20:14.525062",
     "exception": false,
     "start_time": "2025-06-19T02:20:14.519734",
     "status": "completed"
    },
    "tags": []
   },
   "source": [
    "## 4. Evaluate Model\n",
    "\n",
    "Let's evaluate our model's performance on the test set."
   ]
  },
  {
   "cell_type": "code",
   "execution_count": 12,
   "id": "d7b8e88b",
   "metadata": {
    "papermill": {
     "duration": 0.403607,
     "end_time": "2025-06-19T02:20:14.934108",
     "exception": false,
     "start_time": "2025-06-19T02:20:14.530501",
     "status": "completed"
    },
    "tags": []
   },
   "outputs": [
    {
     "data": {
      "image/png": "[encoded data removed]",
      "text/plain": [
       "<Figure size 800x600 with 2 Axes>"
      ]
     },
     "metadata": {},
     "output_type": "display_data"
    }
   ],
   "source": [
    "# Load best model\n",
    "model.load_state_dict(torch.load('best_model.pt'))\n",
    "\n",
    "# Evaluate on test set\n",
    "model.eval()\n",
    "y_true = []\n",
    "y_pred = []\n",
    "\n",
    "with torch.no_grad(): \n",
    "    for data in val_loader:\n",
    "        out = model(data.to(device))\n",
    "        y_true.extend(data.to('cpu').y.numpy())\n",
    "        y_pred.extend(out.to('cpu').numpy())\n",
    "\n",
    "y_pred = np.array([x[0] for x in y_pred])\n",
    "pred_discrete = np.where(y_pred > 0.5, 1, 0)\n",
    "# Plot confusion matrix\n",
    "plot_confusion_matrix(y_true, pred_discrete)"
   ]
  },
  {
   "cell_type": "code",
   "execution_count": 13,
   "id": "eac9d4f0",
   "metadata": {
    "papermill": {
     "duration": 0.142828,
     "end_time": "2025-06-19T02:20:15.083599",
     "exception": false,
     "start_time": "2025-06-19T02:20:14.940771",
     "status": "completed"
    },
    "tags": []
   },
   "outputs": [
    {
     "data": {
      "image/png": "[encoded data removed]",
      "text/plain": [
       "<Figure size 1000x1000 with 1 Axes>"
      ]
     },
     "metadata": {},
     "output_type": "display_data"
    }
   ],
   "source": [
    "from sklearn.metrics import roc_curve, auc\n",
    "import matplotlib.pyplot as plt\n",
    "\n",
    "def plot_roc_curve(y_true, y_pred_proba):\n",
    "    fpr, tpr, thresholds = roc_curve(y_true, y_pred_proba)\n",
    "    roc_auc = auc(fpr, tpr)\n",
    "    plt.figure()\n",
    "    plt.plot(fpr, tpr, label='ROC curve (area = %0.6f)' % roc_auc)\n",
    "    plt.xlabel('False Positive Rate')\n",
    "    plt.ylabel('True Positive Rate')\n",
    "    plt.title('ROC Curve')\n",
    "    plt.legend(loc='lower right')\n",
    "    plt.show()\n",
    "\n",
    "plot_roc_curve(y_true, y_pred)"
   ]
  },
  {
   "cell_type": "markdown",
   "id": "ec6055cb",
   "metadata": {
    "papermill": {
     "duration": 0.005924,
     "end_time": "2025-06-19T02:20:15.095921",
     "exception": false,
     "start_time": "2025-06-19T02:20:15.089997",
     "status": "completed"
    },
    "tags": []
   },
   "source": [
    "# 5 - Making predictions"
   ]
  },
  {
   "cell_type": "code",
   "execution_count": null,
   "id": "8e884bf2",
   "metadata": {
    "papermill": {
     "duration": 0.270749,
     "end_time": "2025-06-19T02:20:15.372792",
     "exception": false,
     "start_time": "2025-06-19T02:20:15.102043",
     "status": "completed"
    },
    "tags": []
   },
   "outputs": [],
   "source": [
    "y_pred_test = []\n",
    "for data in test_loader:\n",
    "    with torch.no_grad():\n",
    "        output = model(data.to(device))\n",
    "        # could you change the prediction threshold? Would that make it better?\n",
    "        y_pred_test.extend(output.to('cpu').numpy())\n",
    "\n",
    "y_pred_test = np.array([x[0] for x in y_pred_test])\n"
   ]
  },
  {
   "cell_type": "code",
   "execution_count": 12,
   "id": "99994951",
   "metadata": {
    "papermill": {
     "duration": 0.019247,
     "end_time": "2025-06-19T02:20:15.398412",
     "exception": false,
     "start_time": "2025-06-19T02:20:15.379165",
     "status": "completed"
    },
    "tags": []
   },
   "outputs": [],
   "source": [
    "import pandas as pd\n",
    "solution = pd.DataFrame({'id':test_ids, 'label':y_pred_test})\n",
    "solution.to_csv('solution.csv', index=False)"
   ]
  },
  {
   "cell_type": "code",
   "execution_count": null,
   "id": "7953538e",
   "metadata": {
    "papermill": {
     "duration": 0.006,
     "end_time": "2025-06-19T02:20:15.410587",
     "exception": false,
     "start_time": "2025-06-19T02:20:15.404587",
     "status": "completed"
    },
    "tags": []
   },
   "outputs": [],
   "source": []
  }
 ],
 "metadata": {
  "kaggle": {
   "accelerator": "nvidiaTeslaT4",
   "dataSources": [
    {
     "databundleVersionId": 12521872,
     "isSourceIdPinned": false,
     "sourceId": 104026,
     "sourceType": "competition"
    },
    {
     "sourceId": 242701488,
     "sourceType": "kernelVersion"
    },
    {
     "sourceId": 244089811,
     "sourceType": "kernelVersion"
    },
    {
     "sourceId": 244532811,
     "sourceType": "kernelVersion"
    }
   ],
   "dockerImageVersionId": 31040,
   "isGpuEnabled": true,
   "isInternetEnabled": true,
   "language": "python",
   "sourceType": "notebook"
  },
  "kernelspec": {
   "display_name": "Python 3 (ipykernel)",
   "language": "python",
   "name": "python3"
  },
  "language_info": {
   "codemirror_mode": {
    "name": "ipython",
    "version": 3
   },
   "file_extension": ".py",
   "mimetype": "text/x-python",
   "name": "python",
   "nbconvert_exporter": "python",
   "pygments_lexer": "ipython3",
   "version": "3.11.13"
  },
  "papermill": {
   "default_parameters": {},
   "duration": 455.586765,
   "end_time": "2025-06-19T02:20:20.304870",
   "environment_variables": {},
   "exception": null,
   "input_path": "__notebook__.ipynb",
   "output_path": "__notebook__.ipynb",
   "parameters": {},
   "start_time": "2025-06-19T02:12:44.718105",
   "version": "2.6.0"
  }
 },
 "nbformat": 4,
 "nbformat_minor": 5
}
